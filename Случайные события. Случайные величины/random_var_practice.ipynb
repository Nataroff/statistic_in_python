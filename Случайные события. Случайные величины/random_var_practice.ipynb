{
 "cells": [
  {
   "cell_type": "code",
   "execution_count": 1,
   "metadata": {},
   "outputs": [],
   "source": [
    "import numpy as np"
   ]
  },
  {
   "cell_type": "code",
   "execution_count": 14,
   "metadata": {},
   "outputs": [
    {
     "data": {
      "text/plain": [
       "2"
      ]
     },
     "execution_count": 14,
     "metadata": {},
     "output_type": "execute_result"
    }
   ],
   "source": [
    "# генерируем дискретную величину\n",
    "np.random.randint(1, 5)"
   ]
  },
  {
   "cell_type": "code",
   "execution_count": 9,
   "metadata": {},
   "outputs": [
    {
     "data": {
      "text/plain": [
       "array([2, 1, 2, 4, 2, 4, 3, 2, 4, 3, 2, 4, 4, 2, 4, 3, 1, 4, 2, 3, 2, 1,\n",
       "       4, 2, 1, 4, 4, 1, 3, 2, 2, 1, 1, 2, 3, 1, 4, 3, 3, 3, 1, 4, 2, 3,\n",
       "       1, 1, 4, 1, 4, 4, 4, 2, 1, 3, 1, 2, 3, 2, 3, 4, 4, 2, 1, 1, 4, 3,\n",
       "       2, 3, 4, 4, 1, 1, 1, 3, 3, 4, 4, 3, 4, 1, 2, 1, 1, 1, 3, 2, 3, 3,\n",
       "       1, 2, 2, 4, 2, 1, 1, 1, 4, 4, 3, 2])"
      ]
     },
     "execution_count": 9,
     "metadata": {},
     "output_type": "execute_result"
    }
   ],
   "source": [
    "np.random.randint(1, 5, 100)"
   ]
  },
  {
   "cell_type": "code",
   "execution_count": 10,
   "metadata": {},
   "outputs": [
    {
     "data": {
      "text/plain": [
       "array([0.7382493 , 0.6196034 , 0.62744422, 0.88636783, 0.01229683,\n",
       "       0.16660813, 0.17209542, 0.75852017, 0.69552913, 0.47077864,\n",
       "       0.33419693, 0.65126344, 0.34070332, 0.50351991, 0.80278603,\n",
       "       0.95201742, 0.36857459, 0.39696752, 0.81952358, 0.80264494,\n",
       "       0.60164884, 0.94790195, 0.67726364, 0.82689213, 0.37415001,\n",
       "       0.21353015, 0.77800909, 0.86278506, 0.62362753, 0.27535172,\n",
       "       0.51351617, 0.20038307, 0.79103224, 0.46978729, 0.05227616,\n",
       "       0.24666007, 0.13712672, 0.00817686, 0.2080886 , 0.05534832,\n",
       "       0.83200794, 0.93322883, 0.422496  , 0.65464552, 0.51822646,\n",
       "       0.96831974, 0.53356696, 0.27614396, 0.31251963, 0.07947754,\n",
       "       0.00780139, 0.53524122, 0.41099327, 0.35962764, 0.05684391,\n",
       "       0.18348419, 0.59630664, 0.05848438, 0.31220079, 0.87398858,\n",
       "       0.71544692, 0.52698153, 0.04180702, 0.77254318, 0.88871205,\n",
       "       0.12100343, 0.09343624, 0.18689111, 0.09388852, 0.25105314,\n",
       "       0.12897447, 0.71312521, 0.45973793, 0.53295662, 0.4997236 ,\n",
       "       0.39537082, 0.77373042, 0.14491015, 0.71464975, 0.16028127,\n",
       "       0.68009652, 0.1943002 , 0.47536337, 0.19555007, 0.10726711,\n",
       "       0.34123629, 0.76496697, 0.34925113, 0.48465461, 0.21569602,\n",
       "       0.20716873, 0.2549387 , 0.39221075, 0.3117863 , 0.30292547,\n",
       "       0.27959197, 0.49384773, 0.37730733, 0.92535016, 0.56463073])"
      ]
     },
     "execution_count": 10,
     "metadata": {},
     "output_type": "execute_result"
    }
   ],
   "source": [
    "# генерируем непрерывную величину\n",
    "np.random.random(100)"
   ]
  },
  {
   "cell_type": "code",
   "execution_count": 16,
   "metadata": {},
   "outputs": [
    {
     "data": {
      "text/plain": [
       "3.6856277181785337"
      ]
     },
     "execution_count": 16,
     "metadata": {},
     "output_type": "execute_result"
    }
   ],
   "source": [
    "np.random.uniform(1, 5)"
   ]
  },
  {
   "cell_type": "code",
   "execution_count": 17,
   "metadata": {},
   "outputs": [
    {
     "data": {
      "text/plain": [
       "array([1.63683212, 3.46459265, 3.6302538 , 1.08731412, 1.62506769,\n",
       "       4.2232965 , 4.03670975, 1.78736746, 1.29157552, 2.61966945,\n",
       "       1.06874865, 1.77668505, 4.31863478, 4.0352768 , 1.92416243,\n",
       "       4.4876735 , 1.65130982, 4.78373057, 4.1653069 , 2.86156587,\n",
       "       1.49169389, 1.89746717, 3.46377711, 4.13091627, 1.71145441,\n",
       "       3.67144052, 3.61449254, 1.37017104, 3.64640186, 3.77644213,\n",
       "       3.15796082, 2.44590234, 4.43724461, 3.79078309, 3.81657829,\n",
       "       2.56784013, 4.4044873 , 2.15678409, 3.59144471, 1.74923951,\n",
       "       2.30523805, 4.61737432, 4.78365547, 3.88521616, 1.07915712,\n",
       "       3.76477624, 4.1352519 , 4.80297237, 3.38673899, 3.19693519,\n",
       "       3.65459696, 1.34925872, 3.32171211, 3.42605396, 2.01009213,\n",
       "       1.7856996 , 4.18219349, 1.68617623, 3.42914276, 4.59168026,\n",
       "       2.73204804, 1.33312227, 4.10116972, 3.55468167, 2.4319133 ,\n",
       "       4.44699912, 2.18323611, 1.33706454, 1.67216029, 2.30473727,\n",
       "       2.85336793, 2.92551951, 2.0971709 , 2.80427212, 1.81109654,\n",
       "       1.26374581, 3.22104508, 2.45182527, 2.08040688, 2.47804919,\n",
       "       4.58503275, 4.31555557, 2.35151337, 2.25670904, 2.01785153,\n",
       "       3.2282674 , 1.51922948, 2.99783052, 4.28316619, 1.80247593,\n",
       "       3.8947904 , 4.38725346, 2.24810449, 4.09067761, 4.61712221,\n",
       "       3.70742299, 3.82161998, 1.35822104, 4.60356676, 1.1436528 ])"
      ]
     },
     "execution_count": 17,
     "metadata": {},
     "output_type": "execute_result"
    }
   ],
   "source": [
    "np.random.uniform(1, 5, 100)"
   ]
  },
  {
   "cell_type": "markdown",
   "metadata": {},
   "source": [
    "**Задача 1.** Оценить вероятность того, что на игральной кости выпадет больше 4 очков. Сравнить с теоретической вероятностью."
   ]
  },
  {
   "cell_type": "code",
   "execution_count": 51,
   "metadata": {},
   "outputs": [
    {
     "name": "stdout",
     "output_type": "stream",
     "text": [
      "333573 1000000 0.333573 0.3333333333333333\n"
     ]
    }
   ],
   "source": [
    "np.random.seed(42)\n",
    "\n",
    "trials = 1000000   # Количество попыток\n",
    "successes = 0    # Количество успехов\n",
    "\n",
    "for i in range(trials):\n",
    "    random_score = np.random.randint(1, 7)    # Случайное количество очков от 1 до 6\n",
    "    if random_score > 4:\n",
    "        successes += 1\n",
    "        \n",
    "p_monte_carlo = successes / trials    # Вероятность из моделирования\n",
    "p = 2 / 6                             # Теоретическая вероятность\n",
    "\n",
    "print(successes, trials, p_monte_carlo, p)"
   ]
  },
  {
   "cell_type": "markdown",
   "metadata": {},
   "source": [
    "**Задача 1А** (опциональная). Дан квадрат, в который вписан круг (касаясь сторон квадрата). В квадрат случайным образом попадают точки. Какова вероятность, что наугад взятая точка попадёт в круг?  \n",
    "_Подсказка:_ Удобно взять квардат со стороной, равной 2, и отсчитывать координаты точек от его центра."
   ]
  },
  {
   "cell_type": "code",
   "execution_count": 78,
   "metadata": {},
   "outputs": [
    {
     "name": "stdout",
     "output_type": "stream",
     "text": [
      "0.785878\n"
     ]
    }
   ],
   "source": [
    "trials = 1000000   # Количество попыток\n",
    "successes = 0 \n",
    "\n",
    "for i in range(trials):\n",
    "    x = np.random.uniform(-1, 1)\n",
    "    y = np.random.uniform(-1, 1)\n",
    "    if x**2 + y**2 < 1:\n",
    "        successes += 1\n",
    "        \n",
    "print(successes / trials)       "
   ]
  },
  {
   "cell_type": "code",
   "execution_count": 79,
   "metadata": {},
   "outputs": [
    {
     "name": "stdout",
     "output_type": "stream",
     "text": [
      "3.143512\n"
     ]
    }
   ],
   "source": [
    "print(successes / trials * 4)  "
   ]
  },
  {
   "cell_type": "markdown",
   "metadata": {},
   "source": [
    "**Задача 2.** Смоделировать стрельбу по мишени."
   ]
  },
  {
   "cell_type": "code",
   "execution_count": 88,
   "metadata": {},
   "outputs": [
    {
     "data": {
      "text/plain": [
       "<matplotlib.collections.PathCollection at 0x1e87ca8c220>"
      ]
     },
     "execution_count": 88,
     "metadata": {},
     "output_type": "execute_result"
    },
    {
     "data": {
      "image/png": "[encoded data removed]",
      "text/plain": [
       "<Figure size 432x288 with 1 Axes>"
      ]
     },
     "metadata": {
      "needs_background": "light"
     },
     "output_type": "display_data"
    }
   ],
   "source": [
    "import matplotlib.pyplot as plt\n",
    "\n",
    "shots = 100000    # Количество выстрелов\n",
    "std_dev = 1 # Стандартное отклонение (на сколько мы в среднем будем мазать)\n",
    "\n",
    "x = np.random.normal(0, std_dev, shots) # 0 - и среднее, и мода, и медиана\n",
    "y = np.random.normal(0, std_dev, shots)\n",
    "\n",
    "\n",
    "plt.scatter(x, y)\n",
    "# почему разброс от -3 до 3?"
   ]
  },
  {
   "cell_type": "markdown",
   "metadata": {},
   "source": [
    "**Задача 3.** Графически определить распределение измеренных значений физической величины, когда измерительный прибор имеет случайную погрешность."
   ]
  },
  {
   "cell_type": "code",
   "execution_count": 89,
   "metadata": {},
   "outputs": [
    {
     "data": {
      "text/plain": [
       "count    1040.000000\n",
       "mean       -9.797112\n",
       "std         0.087958\n",
       "min       -10.030373\n",
       "25%        -9.866481\n",
       "50%        -9.800747\n",
       "75%        -9.727398\n",
       "max        -9.570811\n",
       "Name: az, dtype: float64"
      ]
     },
     "execution_count": 89,
     "metadata": {},
     "output_type": "execute_result"
    }
   ],
   "source": [
    "import pandas as pd\n",
    "\n",
    "data = pd.read_csv(\"data.log\", sep=\" \")[\"az\"]\n",
    "data.describe()"
   ]
  },
  {
   "cell_type": "code",
   "execution_count": 90,
   "metadata": {},
   "outputs": [
    {
     "data": {
      "text/plain": [
       "<matplotlib.axes._subplots.AxesSubplot at 0x1e87e7f5610>"
      ]
     },
     "execution_count": 90,
     "metadata": {},
     "output_type": "execute_result"
    },
    {
     "data": {
      "image/png": "[encoded data removed]",
      "text/plain": [
       "<Figure size 432x288 with 1 Axes>"
      ]
     },
     "metadata": {
      "needs_background": "light"
     },
     "output_type": "display_data"
    }
   ],
   "source": [
    "data.plot()"
   ]
  },
  {
   "cell_type": "code",
   "execution_count": 96,
   "metadata": {},
   "outputs": [],
   "source": [
    "uni = np.random.uniform(min(data), max(data), 10000)\n",
    "normal = np.random.normal(np.mean(data), np.std(data, ddof=1), 10000)"
   ]
  },
  {
   "cell_type": "code",
   "execution_count": 97,
   "metadata": {},
   "outputs": [
    {
     "data": {
      "image/png": "[encoded data removed]",
      "text/plain": [
       "<Figure size 432x288 with 1 Axes>"
      ]
     },
     "metadata": {
      "needs_background": "light"
     },
     "output_type": "display_data"
    },
    {
     "data": {
      "image/png": "[encoded data removed]",
      "text/plain": [
       "<Figure size 432x288 with 1 Axes>"
      ]
     },
     "metadata": {
      "needs_background": "light"
     },
     "output_type": "display_data"
    },
    {
     "data": {
      "image/png": "[encoded data removed]",
      "text/plain": [
       "<Figure size 432x288 with 1 Axes>"
      ]
     },
     "metadata": {
      "needs_background": "light"
     },
     "output_type": "display_data"
    }
   ],
   "source": [
    "plt.hist(uni, bins=11)\n",
    "plt.show()\n",
    "plt.hist(normal, bins=11)\n",
    "plt.show()\n",
    "plt.hist(data, bins=11)\n",
    "plt.show()"
   ]
  },
  {
   "cell_type": "markdown",
   "metadata": {},
   "source": [
    "**Задача 4.** Рассчитать вероятность того, что пациент заражён COVID-19, если известно, что тест дал положительный результат. Сравнить с результатом моделирования."
   ]
  },
  {
   "cell_type": "code",
   "execution_count": 100,
   "metadata": {},
   "outputs": [
    {
     "name": "stdout",
     "output_type": "stream",
     "text": [
      "0.8260869565217391\n"
     ]
    }
   ],
   "source": [
    "prev = 0.50    # Распространённость болезни\n",
    "sens = 0.95    # Чувствительность теста\n",
    "spec = 0.80    # Специфичность теста\n",
    "\n",
    "p = (sens * prev) / (sens * prev + (1 - spec) * (1 - prev))   # Теоретическая вероятность \n",
    "print(p)"
   ]
  },
  {
   "cell_type": "code",
   "execution_count": 101,
   "metadata": {},
   "outputs": [
    {
     "name": "stdout",
     "output_type": "stream",
     "text": [
      "0.8263318673977789\n"
     ]
    }
   ],
   "source": [
    "population = 1000000    # Количество испытуемых\n",
    "\n",
    "true_pos = 0    # Количество больных с положительным тестом\n",
    "false_pos = 0   # Количество здоровых с положительным тестом\n",
    "\n",
    "for i in range(population):\n",
    "    # Наугад решаем, заражён ли человек\n",
    "    # для этого генерируем случайную величину от 0 до 1     \n",
    "    infected = np.random.uniform() < prev\n",
    "    \n",
    "    # Наугад решаем, дал ли тест положительный результат \n",
    "    positive = np.random.uniform() < sens if infected else np.random.uniform() < 1 - spec\n",
    "    \n",
    "    if positive:\n",
    "        if infected:\n",
    "            true_pos += 1\n",
    "        else:\n",
    "            false_pos += 1\n",
    "            \n",
    "p_monte_carlo = true_pos / (true_pos + false_pos)    # Вероятность из моделирования\n",
    "print(p_monte_carlo)"
   ]
  },
  {
   "cell_type": "markdown",
   "metadata": {},
   "source": [
    "**Задача 5.** Смоделировать игру против лотерейного автомата типа “777”. Игрок платит 1 руб., после чего выпадает случайное целое число, равномерно распределенное от 0 до 999. При некоторых значениях числа игрок получает выигрыш.\n",
    "\n",
    "Выгодна ли игра игроку?\n",
    "\n",
    "Сколько в среднем приобретает\n",
    "или теряет игрок за одну игру?\n",
    "\n",
    "777: 200 руб.  \n",
    "999: 100 руб.  \n",
    "555: 50 руб.  \n",
    "333: 15 руб.  \n",
    "111: 10 руб.  \n",
    "@77: 5 руб.  \n",
    "@@7: 3 руб.  \n",
    "@00: 2 руб.  \n",
    "@@0: 1 руб.  \n",
    "  \n",
    "@ - любая цифра\n"
   ]
  },
  {
   "cell_type": "code",
   "execution_count": 390,
   "metadata": {},
   "outputs": [
    {
     "name": "stdout",
     "output_type": "stream",
     "text": [
      "Количество выигрышей равно 203250\n",
      "Количество проигрышей равно 796750\n",
      "Потрачено 1000000\n",
      "Сумарный выигрыш составил 800408\n",
      "Прибыль за игру-0.199592\n",
      "Вероятность выигрыша равна 0.20325\n",
      "Вероятность проигрыша равна 0.79675\n"
     ]
    }
   ],
   "source": [
    "trials = 1000000   # Количество попыток\n",
    "win = 0            # Количество успехов\n",
    "lose = 0           # Количество неудач\n",
    "consumption = 0    # Расход\n",
    "income = 0         # Доход\n",
    "\n",
    "for i in range(trials):\n",
    "    random_number = np.random.randint(1, 1000)    # Случайное число от 0 до 999\n",
    "    consumption += 1\n",
    "    if random_number == 777:                      # Если выпало 777\n",
    "        win += 1\n",
    "        income += 200\n",
    "    elif random_number == 999:                    # Если выпало 999\n",
    "        win += 1\n",
    "        income += 100\n",
    "    elif random_number == 555:                    # Если выпало 555\n",
    "        win += 1\n",
    "        income += 50\n",
    "    elif random_number == 333:                    # Если выпало 333\n",
    "        win += 1\n",
    "        income += 15 \n",
    "    elif random_number == 111:                    # Если выпало 111\n",
    "        win += 1\n",
    "        income += 10 \n",
    "    elif random_number % 100 == 77:               # Если выпало *77\n",
    "        win += 1\n",
    "        income += 5 \n",
    "    elif random_number % 10 == 7:                 # Если выпало **7\n",
    "        win += 1\n",
    "        income += 3    \n",
    "    elif random_number % 100 == 0:                # Если выпало *00\n",
    "        win += 1\n",
    "        income += 2  \n",
    "    elif random_number % 10 == 0:                 # Если выпало **0\n",
    "        win += 1\n",
    "        income += 1     \n",
    "    else:\n",
    "        lose += 1\n",
    "        \n",
    "print(f'Количество выигрышей равно {win}')\n",
    "print(f'Количество проигрышей равно {lose}')\n",
    "print(f'Потрачено {consumption}')\n",
    "print(f'Сумарный выигрыш составил {income}')\n",
    "print(f'Прибыль за игру{(income - consumption) / trials}')\n",
    "print(f'Вероятность выигрыша равна {win / trials}')\n",
    "print(f'Вероятность проигрыша равна {lose / trials}')"
   ]
  },
  {
   "cell_type": "markdown",
   "metadata": {},
   "source": [
    "Учитывая вероятность выигрыша и прибыль с каждой игры что то какой то лотерейный автомат не очень привлекательный))))))"
   ]
  },
  {
   "cell_type": "markdown",
   "metadata": {},
   "source": [
    " Теоретический рассчет среднего выигрыша (проигрыша)."
   ]
  },
  {
   "cell_type": "code",
   "execution_count": 403,
   "metadata": {},
   "outputs": [],
   "source": [
    "X_profit = (1/1000*200 + 1/1000*100 + 1/1000*50 + 1/1000*15 + 1/1000*10 + 9/1000*5 + 90/1000*3 + 10/1000*2 + 90/1000*1) - 1"
   ]
  },
  {
   "cell_type": "code",
   "execution_count": 404,
   "metadata": {},
   "outputs": [
    {
     "data": {
      "text/plain": [
       "-0.19999999999999996"
      ]
     },
     "execution_count": 404,
     "metadata": {},
     "output_type": "execute_result"
    }
   ],
   "source": [
    "X_profit"
   ]
  }
 ],
 "metadata": {
  "kernelspec": {
   "display_name": "Python 3",
   "language": "python",
   "name": "python3"
  },
  "language_info": {
   "codemirror_mode": {
    "name": "ipython",
    "version": 3
   },
   "file_extension": ".py",
   "mimetype": "text/x-python",
   "name": "python",
   "nbconvert_exporter": "python",
   "pygments_lexer": "ipython3",
   "version": "3.8.3"
  }
 },
 "nbformat": 4,
 "nbformat_minor": 4
}
