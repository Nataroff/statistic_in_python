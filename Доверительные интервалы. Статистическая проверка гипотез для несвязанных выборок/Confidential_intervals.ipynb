{
 "cells": [
  {
   "cell_type": "markdown",
   "metadata": {},
   "source": [
    "<h3 style=\"text-align: center;\"><b>«Доверительные интервалы. Статистическая проверка гипотез для несвязанных выборок »</b></h3>"
   ]
  },
  {
   "cell_type": "code",
   "execution_count": 1,
   "metadata": {},
   "outputs": [],
   "source": [
    "import math\n",
    "import numpy as np\n",
    "import pandas as pd\n",
    "import scipy as sp\n",
    "import scipy.stats as stats\n",
    "import seaborn as sns\n",
    "import matplotlib.pyplot as plt"
   ]
  },
  {
   "cell_type": "markdown",
   "metadata": {},
   "source": [
    "**Задача 1. Найдите минимально необходимый объем выборки для построения интервальной оценки среднего с:**   \n",
    "- точностью ∆ = 3   \n",
    "- дисперсией σ^2 = 225   \n",
    "- уровнем доверия β = 0.95. "
   ]
  },
  {
   "cell_type": "code",
   "execution_count": 2,
   "metadata": {},
   "outputs": [
    {
     "name": "stdout",
     "output_type": "stream",
     "text": [
      "Минимально необходимый объем выборки для построенияинтервальной оценки среднего 96.\n"
     ]
    }
   ],
   "source": [
    "accuracy = 3\n",
    "sigma = math.sqrt(225)\n",
    "z = 1.960\n",
    "\n",
    "print(f'Минимально необходимый объем выборки для построения\\\n",
    "интервальной оценки среднего {round(((z * sigma) / accuracy) ** 2)}.')"
   ]
  },
  {
   "cell_type": "markdown",
   "metadata": {},
   "source": [
    "**Задача 2. Пусть для выборки объема n = 25 вычислено среднее x¯ = 130. Из предыдущих исследований известно стандартное отклонение σ = 12. Постройте 98% доверительный интервал для среднего значения.** \n"
   ]
  },
  {
   "cell_type": "code",
   "execution_count": 3,
   "metadata": {},
   "outputs": [
    {
     "data": {
      "text/plain": [
       "(125.0464, 130, 134.9536)"
      ]
     },
     "execution_count": 3,
     "metadata": {},
     "output_type": "execute_result"
    }
   ],
   "source": [
    "n = 25\n",
    "X = 130\n",
    "sigma = 12\n",
    "t = 2.064\n",
    "\n",
    "accurasy = (sigma / math.sqrt(n)) * t\n",
    "\n",
    "X - accurasy, X, X + accurasy"
   ]
  },
  {
   "cell_type": "markdown",
   "metadata": {},
   "source": [
    "**Задача 3. Вам даны две выборки роста мужчин и женщин. Докажите, используя t-Тест Стьдента, что различия между выборками незначительно, если уровень значимости равен 0.001**"
   ]
  },
  {
   "cell_type": "code",
   "execution_count": 4,
   "metadata": {},
   "outputs": [
    {
     "data": {
      "text/plain": [
       "Ttest_indResult(statistic=2.538490046107089, pvalue=0.011133210636857441)"
      ]
     },
     "execution_count": 4,
     "metadata": {},
     "output_type": "execute_result"
    }
   ],
   "source": [
    "population_men = stats.norm.rvs(loc=19, scale=171, size=11000000)  # Выборка мужчин со средним ростом 171\n",
    "population_women = stats.norm.rvs(loc=16, scale=165, size=12000)  # Выборка женщин со средним ростом 165\n",
    "\n",
    "stats.ttest_ind(population_men, population_women)"
   ]
  },
  {
   "cell_type": "code",
   "execution_count": 5,
   "metadata": {},
   "outputs": [
    {
     "data": {
      "image/png": "[encoded data removed]",
      "text/plain": [
       "<Figure size 504x360 with 1 Axes>"
      ]
     },
     "metadata": {
      "needs_background": "light"
     },
     "output_type": "display_data"
    }
   ],
   "source": [
    "plt.figure(figsize=(7, 5))\n",
    "sns.distplot(population_men, 100)\n",
    "sns.distplot(population_women, 100)\n",
    "plt.title('Сравнение выборок population_men и population_women')\n",
    "plt.legend(['population_men', 'population_women'])\n",
    "plt.grid()"
   ]
  },
  {
   "cell_type": "markdown",
   "metadata": {},
   "source": [
    "**Вывод:** На основании полученного значения p-value, при **уровне значимости 0.001** у нас нет достаточно аргументов чтобы принять альтернативную гипотезу (H1). Так как **0.153 > 0.001** можно утверждать что наши выбрки не отличаются значительно, что также подтверждает построенная визуализация."
   ]
  },
  {
   "cell_type": "markdown",
   "metadata": {},
   "source": [
    "**Задача 4. Определите объем необходимой выборки для исследования среднего чека за кофе в случайном городе, если известно, что в этом городе:**\n",
    "- стандартное отклонение = 150\n",
    "- уровень доверия = 95%\n",
    "- погрешность 50 рублей"
   ]
  },
  {
   "cell_type": "code",
   "execution_count": 6,
   "metadata": {},
   "outputs": [
    {
     "name": "stdout",
     "output_type": "stream",
     "text": [
      "Объем необходимой выборки для исследования среднего чека за кофе в случайном городе 35.\n"
     ]
    }
   ],
   "source": [
    "accuracy = 50\n",
    "sigma = 150\n",
    "z = 1.960\n",
    "\n",
    "print(f'Объем необходимой выборки для исследования среднего чека\\\n",
    " за кофе в случайном городе {round(((z * sigma) / accuracy) ** 2)}.')"
   ]
  },
  {
   "cell_type": "markdown",
   "metadata": {},
   "source": [
    "**Задача 5.  Представьте, что вы хотите разоблачить \"волшебника\", который считает, что умеет предсказывать погоду на завтра. Отвечая просто: дождь или солнце. Вы пронаблюдали за ответами \"волшебника\" в течении некоторого периода времени и получили такие результаты (см.ниже). Можно ли сказать, что маг действительно умеет предсказывать погоду, если уровнь значимости принять за 0.05 ?**"
   ]
  },
  {
   "cell_type": "markdown",
   "metadata": {},
   "source": [
    "**H0** - эффект случайный   \n",
    "**H1** - эффект не случайный"
   ]
  },
  {
   "cell_type": "code",
   "execution_count": 7,
   "metadata": {},
   "outputs": [
    {
     "data": {
      "text/html": [
       "<div>\n",
       "<style scoped>\n",
       "    .dataframe tbody tr th:only-of-type {\n",
       "        vertical-align: middle;\n",
       "    }\n",
       "\n",
       "    .dataframe tbody tr th {\n",
       "        vertical-align: top;\n",
       "    }\n",
       "\n",
       "    .dataframe thead th {\n",
       "        text-align: right;\n",
       "    }\n",
       "</style>\n",
       "<table border=\"1\" class=\"dataframe\">\n",
       "  <thead>\n",
       "    <tr style=\"text-align: right;\">\n",
       "      <th></th>\n",
       "      <th>Ответ волшебника</th>\n",
       "      <th>Реальность</th>\n",
       "    </tr>\n",
       "  </thead>\n",
       "  <tbody>\n",
       "    <tr>\n",
       "      <th>Дождь</th>\n",
       "      <td>10</td>\n",
       "      <td>15</td>\n",
       "    </tr>\n",
       "    <tr>\n",
       "      <th>Солнце</th>\n",
       "      <td>39</td>\n",
       "      <td>34</td>\n",
       "    </tr>\n",
       "  </tbody>\n",
       "</table>\n",
       "</div>"
      ],
      "text/plain": [
       "        Ответ волшебника  Реальность\n",
       "Дождь                 10          15\n",
       "Солнце                39          34"
      ]
     },
     "execution_count": 7,
     "metadata": {},
     "output_type": "execute_result"
    }
   ],
   "source": [
    "observations = pd.DataFrame([[10,15],[39,34]],\n",
    "                            index=['Дождь','Солнце'],\n",
    "                            columns=['Ответ волшебника','Реальность'])\n",
    "observations"
   ]
  },
  {
   "cell_type": "code",
   "execution_count": 8,
   "metadata": {},
   "outputs": [
    {
     "data": {
      "text/plain": [
       "0.35417955365927367"
      ]
     },
     "execution_count": 8,
     "metadata": {},
     "output_type": "execute_result"
    }
   ],
   "source": [
    "oddsratio, pvalue = sp.stats.fisher_exact(observations)\n",
    "\n",
    "pvalue"
   ]
  },
  {
   "cell_type": "markdown",
   "metadata": {},
   "source": [
    "**Вывод:** На основании полученых значений p-value нет оснований отклонить H0. Не достаточно оснований утверждать, что \"Волшебник\" умеет предсказывать погоду. "
   ]
  },
  {
   "cell_type": "markdown",
   "metadata": {},
   "source": [
    "**Задача 6. Используя функцию mean_confidence_interval(data, confidence), постройте доверительный интервал с уровнем доверия 90% для выборки:**"
   ]
  },
  {
   "cell_type": "code",
   "execution_count": 9,
   "metadata": {},
   "outputs": [],
   "source": [
    "numbers = [1, 5, 8, 9, 6, 7, 5, 6, 7, 8, 5, 6, 7, 0, 9, 8, 4, 6, 7, 9, 8, 6, 5, 7, 8, 9, 6, 7, 5, 8, 6, 7, 9, 5]"
   ]
  },
  {
   "cell_type": "code",
   "execution_count": 10,
   "metadata": {},
   "outputs": [],
   "source": [
    "def mean_confidence_interval(data, confidence=0.90):\n",
    "    n = len(data)\n",
    "    m, se = np.mean(data), sp.stats.sem(data)\n",
    "    h = se * sp.stats.t.ppf((1 + confidence) / 2, n)\n",
    "    return m - h, m, m + h"
   ]
  },
  {
   "cell_type": "markdown",
   "metadata": {},
   "source": [
    "- n - размер выборки\n",
    "- m - матожидание\n",
    "- se - стандартное отклонение\n",
    "- h - перцентиль"
   ]
  },
  {
   "cell_type": "code",
   "execution_count": 11,
   "metadata": {},
   "outputs": [
    {
     "name": "stdout",
     "output_type": "stream",
     "text": [
      "(5.843062450077532, 6.4411764705882355, 7.039290491098939)\n"
     ]
    }
   ],
   "source": [
    "print(mean_confidence_interval(numbers, 0.90))"
   ]
  },
  {
   "cell_type": "markdown",
   "metadata": {},
   "source": [
    "**Задача 7. Принадлежит ли выборка data_1 и data_2 одному множеству? Оцените это с помощью известных вам тестов проверки гипотез.**"
   ]
  },
  {
   "cell_type": "code",
   "execution_count": 12,
   "metadata": {},
   "outputs": [],
   "source": [
    "data_1 = [4, 5, 8, 9, 6, 7, 5, 6, 7, 8, 5, 6, 7, 0, 9, 8, 4, 6, 7, 9, 8, 6, 5, 7, 8, \n",
    "          9, 6, 7, 5, 8, 6, 7, 9, 5, 10]\n",
    "\n",
    "data_2 = [8, 5, 6, 7, 0, 1, 8, 4, 6, 7, 0, 2, 6, 5, 7, 5, 3, 5, 3, 5, 3, 5, 5, 8, 7, \n",
    "          6, 4, 5, 3, 5, 4, 6, 4, 5, 3, 2, 6, 4, 2, 6, 1, 0, 4, 3, 5, 4, 3, 4, 5, 4, \n",
    "          3, 4, 5, 4, 3, 4, 5, 3, 4, 4, 1, 2, 4, 3, 1, 2, 4, 3, 2, 1, 5, 3, 4, 6, 4, \n",
    "          5, 3, 2, 4, 5, 6, 4, 3, 1, 3, 5, 3, 4, 4, 4, 2, 5, 3]"
   ]
  },
  {
   "cell_type": "markdown",
   "metadata": {},
   "source": [
    "**H0** - не принадлежит  \n",
    "**H1** - принадлежит "
   ]
  },
  {
   "cell_type": "code",
   "execution_count": 13,
   "metadata": {},
   "outputs": [
    {
     "name": "stdout",
     "output_type": "stream",
     "text": [
      "(5.96231523540854, 6.628571428571429, 7.294827621734318)\n",
      "(3.601578660531681, 3.967741935483871, 4.333905210436061)\n"
     ]
    }
   ],
   "source": [
    "print(mean_confidence_interval(data_1, confidence=0.95))\n",
    "print(mean_confidence_interval(data_2, confidence=0.95))"
   ]
  },
  {
   "cell_type": "code",
   "execution_count": 14,
   "metadata": {},
   "outputs": [
    {
     "data": {
      "image/png": "[encoded data removed]",
      "text/plain": [
       "<Figure size 504x360 with 1 Axes>"
      ]
     },
     "metadata": {
      "needs_background": "light"
     },
     "output_type": "display_data"
    }
   ],
   "source": [
    "plt.figure(figsize=(7, 5))\n",
    "sns.distplot(data_1, 5)\n",
    "sns.distplot(data_2, 5)\n",
    "plt.title('Сравнение выборок data_1 и data_2')\n",
    "plt.legend(['data_1', 'data_2'])\n",
    "plt.grid()"
   ]
  },
  {
   "cell_type": "code",
   "execution_count": 15,
   "metadata": {},
   "outputs": [
    {
     "data": {
      "text/plain": [
       "Ttest_indResult(statistic=7.35744682757447, pvalue=2.1159475572725764e-11)"
      ]
     },
     "execution_count": 15,
     "metadata": {},
     "output_type": "execute_result"
    }
   ],
   "source": [
    "stats.ttest_ind(data_1 ,data_2)"
   ]
  },
  {
   "cell_type": "markdown",
   "metadata": {},
   "source": [
    "**Вывод.** На основании полученных результатов t-test-а мы не можем принять H0. Кроме того, на соновании построенных доверительных интервалов, описывающих матожидание генерельных совокупностей двух выборок, видно, что матожидания у двух генеральных совокупностях с 95% вероятностью лежат в разных интервалах. Также, оцениявая два распределения визуально, можно увидеть, что они отличаются. "
   ]
  },
  {
   "cell_type": "markdown",
   "metadata": {},
   "source": [
    "**Задача 8. На примере датасета про жилье в New York City, мы сталкивались с примером, когда переменная имеет не совсем нормальное распределение.** \n",
    "\n",
    "Предположим, Вы сформировали две гипотезы: Нулевая гипотеза - распределение нормальное,  Альтернативная гипотеза - распределение не нормальное.\n",
    "\n",
    "\n",
    "Допустим, вы применили какой-то тест (сейчас неважно какой), который показал уровень значимости (p-value) = 0.03. Каковы будут ваши выводы? Будем считать что у нас нормальное распределение или все-таки нет? Вопрос без подвоха)"
   ]
  },
  {
   "cell_type": "markdown",
   "metadata": {},
   "source": [
    "**Смотря какую альфу мы зададим изначально. Если это будет 0,05, то у нас не будет достаточно оснований чтобы принять Н0, а если, предположим альфа будет 0.01 то получим обратную ситуацию**"
   ]
  },
  {
   "cell_type": "markdown",
   "metadata": {},
   "source": [
    "**Задача 9. Первая выборка — это пациенты, которых лечили препаратом А.  Вторая выборка — пациенты, которых лечили препаратом Б. Значения в выборках — это некоторая характеристика эффективности лечения (уровень метаболита в крови, температура через три дня после начала лечения, срок выздоровления, число койко-дней, и т.д.)** \n",
    "\n",
    "- а) Требуется выяснить, имеется ли значимое различие эффективности препаратов А и Б, или различия являются чисто случайными и объясняются «естественной» дисперсией выбранной характеристики?  (уровень значимости принять за 5% или 0.05)\n",
    "\n",
    "- b) При каком минимальном P-values различия были бы уже значимы? "
   ]
  },
  {
   "cell_type": "code",
   "execution_count": 16,
   "metadata": {},
   "outputs": [],
   "source": [
    "np.random.seed(11)\n",
    "A = stats.norm.rvs(scale=50,loc=10,size=300)\n",
    "B = A + stats.norm.rvs(scale=10,loc=-1.25,size=300)"
   ]
  },
  {
   "cell_type": "code",
   "execution_count": 17,
   "metadata": {},
   "outputs": [
    {
     "data": {
      "text/plain": [
       "Ttest_indResult(statistic=0.33196234898293125, pvalue=0.740034005650458)"
      ]
     },
     "execution_count": 17,
     "metadata": {},
     "output_type": "execute_result"
    }
   ],
   "source": [
    "stats.ttest_ind(A ,B)"
   ]
  },
  {
   "cell_type": "code",
   "execution_count": 18,
   "metadata": {},
   "outputs": [
    {
     "data": {
      "image/png": "[encoded data removed]",
      "text/plain": [
       "<Figure size 504x360 with 1 Axes>"
      ]
     },
     "metadata": {
      "needs_background": "light"
     },
     "output_type": "display_data"
    }
   ],
   "source": [
    "plt.figure(figsize=(7, 5))\n",
    "sns.distplot(A, 10)\n",
    "sns.distplot(B, 10)\n",
    "plt.title('Сравнение выборок A и B')\n",
    "plt.legend(['A', 'B'])\n",
    "plt.grid()"
   ]
  },
  {
   "cell_type": "markdown",
   "metadata": {},
   "source": [
    "**Вывод.** \n",
    "На основании полученного p-value (0.740) в ходе проведенного t-testa у нас нет основаниий отклонить H0. Различие между препаратом А и Б отсутствует, что также подтверждается построенной визуализацией.   \n",
    "При знчении p-value < 0.05 мы бы получили статистическую значимость между препаратом А и Б."
   ]
  }
 ],
 "metadata": {
  "kernelspec": {
   "display_name": "Python 3",
   "language": "python",
   "name": "python3"
  },
  "language_info": {
   "codemirror_mode": {
    "name": "ipython",
    "version": 3
   },
   "file_extension": ".py",
   "mimetype": "text/x-python",
   "name": "python",
   "nbconvert_exporter": "python",
   "pygments_lexer": "ipython3",
   "version": "3.8.3"
  }
 },
 "nbformat": 4,
 "nbformat_minor": 4
}
