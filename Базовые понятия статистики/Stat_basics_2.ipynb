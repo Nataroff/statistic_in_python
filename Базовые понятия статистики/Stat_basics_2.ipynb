{
 "cells": [
  {
   "cell_type": "markdown",
   "metadata": {},
   "source": [
    "\n",
    "Будем осуществлять работу с непростым [набором данных](https://raw.githubusercontent.com/obulygin/pyda_homeworks/master/statistics_basics/horse_data.csv) о состоянии здоровья лошадей, испытывающих кишечные колики. \n",
    "\n",
    "### Задача 1. Базовое изучение\n",
    "\n",
    "Изучить представленный набор данных на основе [описания его столбцов](https://raw.githubusercontent.com/obulygin/pyda_homeworks/master/statistics_basics/horse_data.names) и выбрать 8 столбцов для дальнейшего изучения (среди них должны быть как числовые, так и категориальные). Провести расчет базовых метрик для них, кратко описать результаты.\n",
    "\n",
    "### Задача 2. Работа с выбросами\n",
    "\n",
    "В выбранных числовых столбцах найти выбросы, выдвинуть гипотезы об их причинах и проинтерпретировать результаты. Принять и обосновать решение о дальнейшей работе с ними.\n",
    "\n",
    "### Задача 3. Работа с пропусками\n",
    "\n",
    "Рассчитать количество пропусков для всех выбранных столбцов. Принять и обосновать решение о методе работы с пропусками по каждому столбцу, сформировать датафрейм, в котором пропуски будут отсутствовать."
   ]
  },
  {
   "cell_type": "code",
   "execution_count": 1,
   "metadata": {},
   "outputs": [],
   "source": [
    "import pandas as pd\n",
    "pd.set_option('display.max_columns', None)\n",
    "pd.options.mode.chained_assignment = None\n",
    "import seaborn as sns\n",
    "import matplotlib.pyplot as plt"
   ]
  },
  {
   "cell_type": "code",
   "execution_count": 2,
   "metadata": {},
   "outputs": [],
   "source": [
    "names = (['surgery', 'Age','Hospital Number', 'rectal temperature', 'pulse', 'respiratory rate', \n",
    "          'temperature of extremities','peripheral pulse', 'ucous membranes', 'capillary refill time',\n",
    "          'pain', 'peristalsis', 'abdominal distension', 'nasogastric tube', 'nasogastric reflux',\n",
    "          'nasogastric reflux PH', 'rectal examination', 'abdomen', 'packed cell volume',\n",
    "          'total protein', 'abdominocentesis appearance', 'abdomcentesis total protein', 'outcome', \n",
    "          'surgical lesion', 'type of lesion', 'type of lesion_2', 'type of lesion_3', 'cp_data'])"
   ]
  },
  {
   "cell_type": "code",
   "execution_count": 3,
   "metadata": {},
   "outputs": [
    {
     "data": {
      "text/html": [
       "<div>\n",
       "<style scoped>\n",
       "    .dataframe tbody tr th:only-of-type {\n",
       "        vertical-align: middle;\n",
       "    }\n",
       "\n",
       "    .dataframe tbody tr th {\n",
       "        vertical-align: top;\n",
       "    }\n",
       "\n",
       "    .dataframe thead th {\n",
       "        text-align: right;\n",
       "    }\n",
       "</style>\n",
       "<table border=\"1\" class=\"dataframe\">\n",
       "  <thead>\n",
       "    <tr style=\"text-align: right;\">\n",
       "      <th></th>\n",
       "      <th>surgery</th>\n",
       "      <th>Age</th>\n",
       "      <th>Hospital Number</th>\n",
       "      <th>rectal temperature</th>\n",
       "      <th>pulse</th>\n",
       "      <th>respiratory rate</th>\n",
       "      <th>temperature of extremities</th>\n",
       "      <th>peripheral pulse</th>\n",
       "      <th>ucous membranes</th>\n",
       "      <th>capillary refill time</th>\n",
       "      <th>pain</th>\n",
       "      <th>peristalsis</th>\n",
       "      <th>abdominal distension</th>\n",
       "      <th>nasogastric tube</th>\n",
       "      <th>nasogastric reflux</th>\n",
       "      <th>nasogastric reflux PH</th>\n",
       "      <th>rectal examination</th>\n",
       "      <th>abdomen</th>\n",
       "      <th>packed cell volume</th>\n",
       "      <th>total protein</th>\n",
       "      <th>abdominocentesis appearance</th>\n",
       "      <th>abdomcentesis total protein</th>\n",
       "      <th>outcome</th>\n",
       "      <th>surgical lesion</th>\n",
       "      <th>type of lesion</th>\n",
       "      <th>type of lesion_2</th>\n",
       "      <th>type of lesion_3</th>\n",
       "      <th>cp_data</th>\n",
       "    </tr>\n",
       "  </thead>\n",
       "  <tbody>\n",
       "    <tr>\n",
       "      <th>0</th>\n",
       "      <td>2.0</td>\n",
       "      <td>1</td>\n",
       "      <td>530101</td>\n",
       "      <td>38.5</td>\n",
       "      <td>66.0</td>\n",
       "      <td>28.0</td>\n",
       "      <td>3.0</td>\n",
       "      <td>3.0</td>\n",
       "      <td>NaN</td>\n",
       "      <td>2.0</td>\n",
       "      <td>5.0</td>\n",
       "      <td>4.0</td>\n",
       "      <td>4.0</td>\n",
       "      <td>NaN</td>\n",
       "      <td>NaN</td>\n",
       "      <td>NaN</td>\n",
       "      <td>3.0</td>\n",
       "      <td>5.0</td>\n",
       "      <td>45.0</td>\n",
       "      <td>8.4</td>\n",
       "      <td>NaN</td>\n",
       "      <td>NaN</td>\n",
       "      <td>2.0</td>\n",
       "      <td>2</td>\n",
       "      <td>11300</td>\n",
       "      <td>0</td>\n",
       "      <td>0</td>\n",
       "      <td>2</td>\n",
       "    </tr>\n",
       "    <tr>\n",
       "      <th>1</th>\n",
       "      <td>1.0</td>\n",
       "      <td>1</td>\n",
       "      <td>534817</td>\n",
       "      <td>39.2</td>\n",
       "      <td>88.0</td>\n",
       "      <td>20.0</td>\n",
       "      <td>NaN</td>\n",
       "      <td>NaN</td>\n",
       "      <td>4.0</td>\n",
       "      <td>1.0</td>\n",
       "      <td>3.0</td>\n",
       "      <td>4.0</td>\n",
       "      <td>2.0</td>\n",
       "      <td>NaN</td>\n",
       "      <td>NaN</td>\n",
       "      <td>NaN</td>\n",
       "      <td>4.0</td>\n",
       "      <td>2.0</td>\n",
       "      <td>50.0</td>\n",
       "      <td>85.0</td>\n",
       "      <td>2.0</td>\n",
       "      <td>2.0</td>\n",
       "      <td>3.0</td>\n",
       "      <td>2</td>\n",
       "      <td>2208</td>\n",
       "      <td>0</td>\n",
       "      <td>0</td>\n",
       "      <td>2</td>\n",
       "    </tr>\n",
       "    <tr>\n",
       "      <th>2</th>\n",
       "      <td>2.0</td>\n",
       "      <td>1</td>\n",
       "      <td>530334</td>\n",
       "      <td>38.3</td>\n",
       "      <td>40.0</td>\n",
       "      <td>24.0</td>\n",
       "      <td>1.0</td>\n",
       "      <td>1.0</td>\n",
       "      <td>3.0</td>\n",
       "      <td>1.0</td>\n",
       "      <td>3.0</td>\n",
       "      <td>3.0</td>\n",
       "      <td>1.0</td>\n",
       "      <td>NaN</td>\n",
       "      <td>NaN</td>\n",
       "      <td>NaN</td>\n",
       "      <td>1.0</td>\n",
       "      <td>1.0</td>\n",
       "      <td>33.0</td>\n",
       "      <td>6.7</td>\n",
       "      <td>NaN</td>\n",
       "      <td>NaN</td>\n",
       "      <td>1.0</td>\n",
       "      <td>2</td>\n",
       "      <td>0</td>\n",
       "      <td>0</td>\n",
       "      <td>0</td>\n",
       "      <td>1</td>\n",
       "    </tr>\n",
       "    <tr>\n",
       "      <th>3</th>\n",
       "      <td>1.0</td>\n",
       "      <td>9</td>\n",
       "      <td>5290409</td>\n",
       "      <td>39.1</td>\n",
       "      <td>164.0</td>\n",
       "      <td>84.0</td>\n",
       "      <td>4.0</td>\n",
       "      <td>1.0</td>\n",
       "      <td>6.0</td>\n",
       "      <td>2.0</td>\n",
       "      <td>2.0</td>\n",
       "      <td>4.0</td>\n",
       "      <td>4.0</td>\n",
       "      <td>1.0</td>\n",
       "      <td>2.0</td>\n",
       "      <td>5.0</td>\n",
       "      <td>3.0</td>\n",
       "      <td>NaN</td>\n",
       "      <td>48.0</td>\n",
       "      <td>7.2</td>\n",
       "      <td>3.0</td>\n",
       "      <td>5.3</td>\n",
       "      <td>2.0</td>\n",
       "      <td>1</td>\n",
       "      <td>2208</td>\n",
       "      <td>0</td>\n",
       "      <td>0</td>\n",
       "      <td>1</td>\n",
       "    </tr>\n",
       "    <tr>\n",
       "      <th>4</th>\n",
       "      <td>2.0</td>\n",
       "      <td>1</td>\n",
       "      <td>530255</td>\n",
       "      <td>37.3</td>\n",
       "      <td>104.0</td>\n",
       "      <td>35.0</td>\n",
       "      <td>NaN</td>\n",
       "      <td>NaN</td>\n",
       "      <td>6.0</td>\n",
       "      <td>2.0</td>\n",
       "      <td>NaN</td>\n",
       "      <td>NaN</td>\n",
       "      <td>NaN</td>\n",
       "      <td>NaN</td>\n",
       "      <td>NaN</td>\n",
       "      <td>NaN</td>\n",
       "      <td>NaN</td>\n",
       "      <td>NaN</td>\n",
       "      <td>74.0</td>\n",
       "      <td>7.4</td>\n",
       "      <td>NaN</td>\n",
       "      <td>NaN</td>\n",
       "      <td>2.0</td>\n",
       "      <td>2</td>\n",
       "      <td>4300</td>\n",
       "      <td>0</td>\n",
       "      <td>0</td>\n",
       "      <td>2</td>\n",
       "    </tr>\n",
       "  </tbody>\n",
       "</table>\n",
       "</div>"
      ],
      "text/plain": [
       "   surgery  Age  Hospital Number  rectal temperature  pulse  respiratory rate  \\\n",
       "0      2.0    1           530101                38.5   66.0              28.0   \n",
       "1      1.0    1           534817                39.2   88.0              20.0   \n",
       "2      2.0    1           530334                38.3   40.0              24.0   \n",
       "3      1.0    9          5290409                39.1  164.0              84.0   \n",
       "4      2.0    1           530255                37.3  104.0              35.0   \n",
       "\n",
       "   temperature of extremities  peripheral pulse  ucous membranes  \\\n",
       "0                         3.0               3.0              NaN   \n",
       "1                         NaN               NaN              4.0   \n",
       "2                         1.0               1.0              3.0   \n",
       "3                         4.0               1.0              6.0   \n",
       "4                         NaN               NaN              6.0   \n",
       "\n",
       "   capillary refill time  pain  peristalsis  abdominal distension  \\\n",
       "0                    2.0   5.0          4.0                   4.0   \n",
       "1                    1.0   3.0          4.0                   2.0   \n",
       "2                    1.0   3.0          3.0                   1.0   \n",
       "3                    2.0   2.0          4.0                   4.0   \n",
       "4                    2.0   NaN          NaN                   NaN   \n",
       "\n",
       "   nasogastric tube  nasogastric reflux  nasogastric reflux PH  \\\n",
       "0               NaN                 NaN                    NaN   \n",
       "1               NaN                 NaN                    NaN   \n",
       "2               NaN                 NaN                    NaN   \n",
       "3               1.0                 2.0                    5.0   \n",
       "4               NaN                 NaN                    NaN   \n",
       "\n",
       "   rectal examination  abdomen  packed cell volume  total protein  \\\n",
       "0                 3.0      5.0                45.0            8.4   \n",
       "1                 4.0      2.0                50.0           85.0   \n",
       "2                 1.0      1.0                33.0            6.7   \n",
       "3                 3.0      NaN                48.0            7.2   \n",
       "4                 NaN      NaN                74.0            7.4   \n",
       "\n",
       "   abdominocentesis appearance  abdomcentesis total protein  outcome  \\\n",
       "0                          NaN                          NaN      2.0   \n",
       "1                          2.0                          2.0      3.0   \n",
       "2                          NaN                          NaN      1.0   \n",
       "3                          3.0                          5.3      2.0   \n",
       "4                          NaN                          NaN      2.0   \n",
       "\n",
       "   surgical lesion  type of lesion  type of lesion_2  type of lesion_3  \\\n",
       "0                2           11300                 0                 0   \n",
       "1                2            2208                 0                 0   \n",
       "2                2               0                 0                 0   \n",
       "3                1            2208                 0                 0   \n",
       "4                2            4300                 0                 0   \n",
       "\n",
       "   cp_data  \n",
       "0        2  \n",
       "1        2  \n",
       "2        1  \n",
       "3        1  \n",
       "4        2  "
      ]
     },
     "execution_count": 3,
     "metadata": {},
     "output_type": "execute_result"
    }
   ],
   "source": [
    "df = pd.read_csv('horse_data.csv', names=names, na_values='?')\n",
    "df.head()"
   ]
  },
  {
   "cell_type": "markdown",
   "metadata": {},
   "source": [
    "Исходя из описания датасета возраст лошади это категориальная переменная, которая может принимать значение **1** или **2**. В исходном датасете стоит признак **9**, исправим это."
   ]
  },
  {
   "cell_type": "code",
   "execution_count": 4,
   "metadata": {},
   "outputs": [],
   "source": [
    "df['Age'] = df['Age'].replace(9,2)"
   ]
  },
  {
   "cell_type": "code",
   "execution_count": 5,
   "metadata": {},
   "outputs": [
    {
     "name": "stdout",
     "output_type": "stream",
     "text": [
      "<class 'pandas.core.frame.DataFrame'>\n",
      "RangeIndex: 300 entries, 0 to 299\n",
      "Data columns (total 28 columns):\n",
      " #   Column                       Non-Null Count  Dtype  \n",
      "---  ------                       --------------  -----  \n",
      " 0   surgery                      299 non-null    float64\n",
      " 1   Age                          300 non-null    int64  \n",
      " 2   Hospital Number              300 non-null    int64  \n",
      " 3   rectal temperature           240 non-null    float64\n",
      " 4   pulse                        276 non-null    float64\n",
      " 5   respiratory rate             242 non-null    float64\n",
      " 6   temperature of extremities   244 non-null    float64\n",
      " 7   peripheral pulse             231 non-null    float64\n",
      " 8   ucous membranes              253 non-null    float64\n",
      " 9   capillary refill time        268 non-null    float64\n",
      " 10  pain                         245 non-null    float64\n",
      " 11  peristalsis                  256 non-null    float64\n",
      " 12  abdominal distension         244 non-null    float64\n",
      " 13  nasogastric tube             196 non-null    float64\n",
      " 14  nasogastric reflux           194 non-null    float64\n",
      " 15  nasogastric reflux PH        53 non-null     float64\n",
      " 16  rectal examination           198 non-null    float64\n",
      " 17  abdomen                      182 non-null    float64\n",
      " 18  packed cell volume           271 non-null    float64\n",
      " 19  total protein                267 non-null    float64\n",
      " 20  abdominocentesis appearance  135 non-null    float64\n",
      " 21  abdomcentesis total protein  102 non-null    float64\n",
      " 22  outcome                      299 non-null    float64\n",
      " 23  surgical lesion              300 non-null    int64  \n",
      " 24  type of lesion               300 non-null    int64  \n",
      " 25  type of lesion_2             300 non-null    int64  \n",
      " 26  type of lesion_3             300 non-null    int64  \n",
      " 27  cp_data                      300 non-null    int64  \n",
      "dtypes: float64(21), int64(7)\n",
      "memory usage: 65.8 KB\n"
     ]
    }
   ],
   "source": [
    "df.info()"
   ]
  },
  {
   "cell_type": "markdown",
   "metadata": {},
   "source": [
    "Исходя из описания датасета **25**, **26** и **27** аттрибут хранятся в колонке **type of lesion**, **type of lesion _2** и **type of lesion_3** в виде последовательности чисел образуя одно число. В целом не очень понятно откуда взялась колонка **26** и **27**, так как все эти данные должны находится в одной колонке."
   ]
  },
  {
   "cell_type": "code",
   "execution_count": 6,
   "metadata": {},
   "outputs": [
    {
     "name": "stdout",
     "output_type": "stream",
     "text": [
      "В столбце type of lesion 18.67% нулевых значений\n",
      "В столбце type of lesion_2 97.67% нулевых значений\n",
      "В столбце type of lesion_3 99.67% нулевых значений\n"
     ]
    }
   ],
   "source": [
    "print(f'В столбце type of lesion {(len(df[df[\"type of lesion\"] == 0]) / len(df)):.2%} нулевых значений')\n",
    "print(f'В столбце type of lesion_2 {(len(df[df[\"type of lesion_2\"] == 0]) / len(df)):.2%} нулевых значений')\n",
    "print(f'В столбце type of lesion_3 {(len(df[df[\"type of lesion_3\"] == 0]) / len(df)):.2%} нулевых значений')"
   ]
  },
  {
   "cell_type": "markdown",
   "metadata": {},
   "source": [
    " #### Учитывая, что в колонке 26 и 27 отсутствует от 97 до 99 % информации данные колонки удалим и будем работать с колонкой 25."
   ]
  },
  {
   "cell_type": "code",
   "execution_count": 7,
   "metadata": {},
   "outputs": [],
   "source": [
    "del df[\"type of lesion_2\"]\n",
    "del df[\"type of lesion_3\"]"
   ]
  },
  {
   "cell_type": "code",
   "execution_count": 8,
   "metadata": {},
   "outputs": [],
   "source": [
    "df_new = df[['surgery', 'Age', 'rectal temperature', 'pulse', 'respiratory rate', \n",
    "          'temperature of extremities', 'total protein', 'type of lesion']]"
   ]
  },
  {
   "cell_type": "code",
   "execution_count": 9,
   "metadata": {},
   "outputs": [
    {
     "data": {
      "text/html": [
       "<div>\n",
       "<style scoped>\n",
       "    .dataframe tbody tr th:only-of-type {\n",
       "        vertical-align: middle;\n",
       "    }\n",
       "\n",
       "    .dataframe tbody tr th {\n",
       "        vertical-align: top;\n",
       "    }\n",
       "\n",
       "    .dataframe thead th {\n",
       "        text-align: right;\n",
       "    }\n",
       "</style>\n",
       "<table border=\"1\" class=\"dataframe\">\n",
       "  <thead>\n",
       "    <tr style=\"text-align: right;\">\n",
       "      <th></th>\n",
       "      <th>surgery</th>\n",
       "      <th>Age</th>\n",
       "      <th>rectal temperature</th>\n",
       "      <th>pulse</th>\n",
       "      <th>respiratory rate</th>\n",
       "      <th>temperature of extremities</th>\n",
       "      <th>total protein</th>\n",
       "      <th>type of lesion</th>\n",
       "    </tr>\n",
       "  </thead>\n",
       "  <tbody>\n",
       "    <tr>\n",
       "      <th>0</th>\n",
       "      <td>2.0</td>\n",
       "      <td>1</td>\n",
       "      <td>38.5</td>\n",
       "      <td>66.0</td>\n",
       "      <td>28.0</td>\n",
       "      <td>3.0</td>\n",
       "      <td>8.4</td>\n",
       "      <td>11300</td>\n",
       "    </tr>\n",
       "    <tr>\n",
       "      <th>1</th>\n",
       "      <td>1.0</td>\n",
       "      <td>1</td>\n",
       "      <td>39.2</td>\n",
       "      <td>88.0</td>\n",
       "      <td>20.0</td>\n",
       "      <td>NaN</td>\n",
       "      <td>85.0</td>\n",
       "      <td>2208</td>\n",
       "    </tr>\n",
       "    <tr>\n",
       "      <th>2</th>\n",
       "      <td>2.0</td>\n",
       "      <td>1</td>\n",
       "      <td>38.3</td>\n",
       "      <td>40.0</td>\n",
       "      <td>24.0</td>\n",
       "      <td>1.0</td>\n",
       "      <td>6.7</td>\n",
       "      <td>0</td>\n",
       "    </tr>\n",
       "    <tr>\n",
       "      <th>3</th>\n",
       "      <td>1.0</td>\n",
       "      <td>2</td>\n",
       "      <td>39.1</td>\n",
       "      <td>164.0</td>\n",
       "      <td>84.0</td>\n",
       "      <td>4.0</td>\n",
       "      <td>7.2</td>\n",
       "      <td>2208</td>\n",
       "    </tr>\n",
       "    <tr>\n",
       "      <th>4</th>\n",
       "      <td>2.0</td>\n",
       "      <td>1</td>\n",
       "      <td>37.3</td>\n",
       "      <td>104.0</td>\n",
       "      <td>35.0</td>\n",
       "      <td>NaN</td>\n",
       "      <td>7.4</td>\n",
       "      <td>4300</td>\n",
       "    </tr>\n",
       "  </tbody>\n",
       "</table>\n",
       "</div>"
      ],
      "text/plain": [
       "   surgery  Age  rectal temperature  pulse  respiratory rate  \\\n",
       "0      2.0    1                38.5   66.0              28.0   \n",
       "1      1.0    1                39.2   88.0              20.0   \n",
       "2      2.0    1                38.3   40.0              24.0   \n",
       "3      1.0    2                39.1  164.0              84.0   \n",
       "4      2.0    1                37.3  104.0              35.0   \n",
       "\n",
       "   temperature of extremities  total protein  type of lesion  \n",
       "0                         3.0            8.4           11300  \n",
       "1                         NaN           85.0            2208  \n",
       "2                         1.0            6.7               0  \n",
       "3                         4.0            7.2            2208  \n",
       "4                         NaN            7.4            4300  "
      ]
     },
     "execution_count": 9,
     "metadata": {},
     "output_type": "execute_result"
    }
   ],
   "source": [
    "df_new.head()"
   ]
  },
  {
   "cell_type": "markdown",
   "metadata": {},
   "source": [
    "## 1. Проведем расчет базовых метрик, кратко опишем результаты."
   ]
  },
  {
   "cell_type": "code",
   "execution_count": 10,
   "metadata": {},
   "outputs": [
    {
     "data": {
      "text/html": [
       "<div>\n",
       "<style scoped>\n",
       "    .dataframe tbody tr th:only-of-type {\n",
       "        vertical-align: middle;\n",
       "    }\n",
       "\n",
       "    .dataframe tbody tr th {\n",
       "        vertical-align: top;\n",
       "    }\n",
       "\n",
       "    .dataframe thead th {\n",
       "        text-align: right;\n",
       "    }\n",
       "</style>\n",
       "<table border=\"1\" class=\"dataframe\">\n",
       "  <thead>\n",
       "    <tr style=\"text-align: right;\">\n",
       "      <th></th>\n",
       "      <th>surgery</th>\n",
       "      <th>Age</th>\n",
       "      <th>rectal temperature</th>\n",
       "      <th>pulse</th>\n",
       "      <th>respiratory rate</th>\n",
       "      <th>temperature of extremities</th>\n",
       "      <th>total protein</th>\n",
       "      <th>type of lesion</th>\n",
       "    </tr>\n",
       "  </thead>\n",
       "  <tbody>\n",
       "    <tr>\n",
       "      <th>count</th>\n",
       "      <td>299.000000</td>\n",
       "      <td>300.000000</td>\n",
       "      <td>240.000000</td>\n",
       "      <td>276.000000</td>\n",
       "      <td>242.000000</td>\n",
       "      <td>244.000000</td>\n",
       "      <td>267.000000</td>\n",
       "      <td>300.000000</td>\n",
       "    </tr>\n",
       "    <tr>\n",
       "      <th>mean</th>\n",
       "      <td>1.397993</td>\n",
       "      <td>1.080000</td>\n",
       "      <td>38.167917</td>\n",
       "      <td>71.913043</td>\n",
       "      <td>30.417355</td>\n",
       "      <td>2.348361</td>\n",
       "      <td>24.456929</td>\n",
       "      <td>3657.880000</td>\n",
       "    </tr>\n",
       "    <tr>\n",
       "      <th>std</th>\n",
       "      <td>0.490305</td>\n",
       "      <td>0.271746</td>\n",
       "      <td>0.732289</td>\n",
       "      <td>28.630557</td>\n",
       "      <td>17.642231</td>\n",
       "      <td>1.045054</td>\n",
       "      <td>27.475009</td>\n",
       "      <td>5399.513513</td>\n",
       "    </tr>\n",
       "    <tr>\n",
       "      <th>min</th>\n",
       "      <td>1.000000</td>\n",
       "      <td>1.000000</td>\n",
       "      <td>35.400000</td>\n",
       "      <td>30.000000</td>\n",
       "      <td>8.000000</td>\n",
       "      <td>1.000000</td>\n",
       "      <td>3.300000</td>\n",
       "      <td>0.000000</td>\n",
       "    </tr>\n",
       "    <tr>\n",
       "      <th>25%</th>\n",
       "      <td>1.000000</td>\n",
       "      <td>1.000000</td>\n",
       "      <td>37.800000</td>\n",
       "      <td>48.000000</td>\n",
       "      <td>18.500000</td>\n",
       "      <td>1.000000</td>\n",
       "      <td>6.500000</td>\n",
       "      <td>2111.750000</td>\n",
       "    </tr>\n",
       "    <tr>\n",
       "      <th>50%</th>\n",
       "      <td>1.000000</td>\n",
       "      <td>1.000000</td>\n",
       "      <td>38.200000</td>\n",
       "      <td>64.000000</td>\n",
       "      <td>24.500000</td>\n",
       "      <td>3.000000</td>\n",
       "      <td>7.500000</td>\n",
       "      <td>2673.500000</td>\n",
       "    </tr>\n",
       "    <tr>\n",
       "      <th>75%</th>\n",
       "      <td>2.000000</td>\n",
       "      <td>1.000000</td>\n",
       "      <td>38.500000</td>\n",
       "      <td>88.000000</td>\n",
       "      <td>36.000000</td>\n",
       "      <td>3.000000</td>\n",
       "      <td>57.000000</td>\n",
       "      <td>3209.000000</td>\n",
       "    </tr>\n",
       "    <tr>\n",
       "      <th>max</th>\n",
       "      <td>2.000000</td>\n",
       "      <td>2.000000</td>\n",
       "      <td>40.800000</td>\n",
       "      <td>184.000000</td>\n",
       "      <td>96.000000</td>\n",
       "      <td>4.000000</td>\n",
       "      <td>89.000000</td>\n",
       "      <td>41110.000000</td>\n",
       "    </tr>\n",
       "  </tbody>\n",
       "</table>\n",
       "</div>"
      ],
      "text/plain": [
       "          surgery         Age  rectal temperature       pulse  \\\n",
       "count  299.000000  300.000000          240.000000  276.000000   \n",
       "mean     1.397993    1.080000           38.167917   71.913043   \n",
       "std      0.490305    0.271746            0.732289   28.630557   \n",
       "min      1.000000    1.000000           35.400000   30.000000   \n",
       "25%      1.000000    1.000000           37.800000   48.000000   \n",
       "50%      1.000000    1.000000           38.200000   64.000000   \n",
       "75%      2.000000    1.000000           38.500000   88.000000   \n",
       "max      2.000000    2.000000           40.800000  184.000000   \n",
       "\n",
       "       respiratory rate  temperature of extremities  total protein  \\\n",
       "count        242.000000                  244.000000     267.000000   \n",
       "mean          30.417355                    2.348361      24.456929   \n",
       "std           17.642231                    1.045054      27.475009   \n",
       "min            8.000000                    1.000000       3.300000   \n",
       "25%           18.500000                    1.000000       6.500000   \n",
       "50%           24.500000                    3.000000       7.500000   \n",
       "75%           36.000000                    3.000000      57.000000   \n",
       "max           96.000000                    4.000000      89.000000   \n",
       "\n",
       "       type of lesion  \n",
       "count      300.000000  \n",
       "mean      3657.880000  \n",
       "std       5399.513513  \n",
       "min          0.000000  \n",
       "25%       2111.750000  \n",
       "50%       2673.500000  \n",
       "75%       3209.000000  \n",
       "max      41110.000000  "
      ]
     },
     "execution_count": 10,
     "metadata": {},
     "output_type": "execute_result"
    }
   ],
   "source": [
    "df_new.describe()"
   ]
  },
  {
   "cell_type": "code",
   "execution_count": 12,
   "metadata": {},
   "outputs": [
    {
     "data": {
      "text/plain": [
       "surgery                        1\n",
       "Age                            0\n",
       "rectal temperature            60\n",
       "pulse                         24\n",
       "respiratory rate              58\n",
       "temperature of extremities    56\n",
       "total protein                 33\n",
       "type of lesion                 0\n",
       "dtype: int64"
      ]
     },
     "execution_count": 12,
     "metadata": {},
     "output_type": "execute_result"
    }
   ],
   "source": [
    "df_new.isna().sum()"
   ]
  },
  {
   "cell_type": "markdown",
   "metadata": {},
   "source": [
    "1. 6 атрибутов из 8 имеют пропуски в данных.\n",
    "2. Атрибуты **pulse**, **respiratory rate** и **total protein** имеют большой размах данных. Очевидно есть аномальные значения, осталось понять  причину возникновения.\n",
    "3. По остальным атрибутам на данном этапе замечани нет."
   ]
  },
  {
   "cell_type": "markdown",
   "metadata": {},
   "source": [
    "## 2.Найдем выбросы в данных, выдвинем гипотезы об их причинах и проинтерпретируем результаты. Примем и обоснуем решение о дальнейшей работе с ними."
   ]
  },
  {
   "cell_type": "markdown",
   "metadata": {},
   "source": [
    "На основании ранее проведенного описательного анализа проверим выбросы по атрибутам **pulse**, **respiratory rate** и **total protein**. Построим графики **boxplot**. Посчитаем межквартильный размах и посмотрм на данные."
   ]
  },
  {
   "cell_type": "code",
   "execution_count": 13,
   "metadata": {},
   "outputs": [
    {
     "name": "stdout",
     "output_type": "stream",
     "text": [
      "<class 'pandas.core.frame.DataFrame'>\n",
      "RangeIndex: 300 entries, 0 to 299\n",
      "Data columns (total 8 columns):\n",
      " #   Column                      Non-Null Count  Dtype  \n",
      "---  ------                      --------------  -----  \n",
      " 0   surgery                     299 non-null    float64\n",
      " 1   Age                         300 non-null    int64  \n",
      " 2   rectal temperature          240 non-null    float64\n",
      " 3   pulse                       276 non-null    float64\n",
      " 4   respiratory rate            242 non-null    float64\n",
      " 5   temperature of extremities  244 non-null    float64\n",
      " 6   total protein               267 non-null    float64\n",
      " 7   type of lesion              300 non-null    int64  \n",
      "dtypes: float64(6), int64(2)\n",
      "memory usage: 18.9 KB\n"
     ]
    }
   ],
   "source": [
    "df_new.info()"
   ]
  },
  {
   "cell_type": "markdown",
   "metadata": {},
   "source": [
    "## **pulse**"
   ]
  },
  {
   "cell_type": "code",
   "execution_count": 14,
   "metadata": {},
   "outputs": [
    {
     "data": {
      "image/png": "[encoded data removed]",
      "text/plain": [
       "<Figure size 720x216 with 1 Axes>"
      ]
     },
     "metadata": {
      "needs_background": "light"
     },
     "output_type": "display_data"
    }
   ],
   "source": [
    "plt.figure(figsize=(10, 3))\n",
    "ax = sns.boxplot(x='pulse', data=df_new)"
   ]
  },
  {
   "cell_type": "code",
   "execution_count": 15,
   "metadata": {},
   "outputs": [
    {
     "data": {
      "text/plain": [
       "271"
      ]
     },
     "execution_count": 15,
     "metadata": {},
     "output_type": "execute_result"
    }
   ],
   "source": [
    "q1 = df_new['pulse'].quantile(0.25)\n",
    "q3 = df_new['pulse'].quantile(0.75)\n",
    "iqr = q3 - q1\n",
    "lower_bound = q1 - (1.5 * iqr) \n",
    "upper_bound = q3 + (1.5 * iqr)\n",
    "remove_outliers = df_new[df_new['pulse'].between(lower_bound, upper_bound, inclusive=True)]\n",
    "len(remove_outliers)"
   ]
  },
  {
   "cell_type": "code",
   "execution_count": 16,
   "metadata": {},
   "outputs": [
    {
     "data": {
      "text/html": [
       "<div>\n",
       "<style scoped>\n",
       "    .dataframe tbody tr th:only-of-type {\n",
       "        vertical-align: middle;\n",
       "    }\n",
       "\n",
       "    .dataframe tbody tr th {\n",
       "        vertical-align: top;\n",
       "    }\n",
       "\n",
       "    .dataframe thead th {\n",
       "        text-align: right;\n",
       "    }\n",
       "</style>\n",
       "<table border=\"1\" class=\"dataframe\">\n",
       "  <thead>\n",
       "    <tr style=\"text-align: right;\">\n",
       "      <th></th>\n",
       "      <th>surgery</th>\n",
       "      <th>Age</th>\n",
       "      <th>rectal temperature</th>\n",
       "      <th>pulse</th>\n",
       "      <th>respiratory rate</th>\n",
       "      <th>temperature of extremities</th>\n",
       "      <th>total protein</th>\n",
       "      <th>type of lesion</th>\n",
       "    </tr>\n",
       "  </thead>\n",
       "  <tbody>\n",
       "    <tr>\n",
       "      <th>3</th>\n",
       "      <td>1.0</td>\n",
       "      <td>2</td>\n",
       "      <td>39.1</td>\n",
       "      <td>164.0</td>\n",
       "      <td>84.0</td>\n",
       "      <td>4.0</td>\n",
       "      <td>7.2</td>\n",
       "      <td>2208</td>\n",
       "    </tr>\n",
       "    <tr>\n",
       "      <th>41</th>\n",
       "      <td>2.0</td>\n",
       "      <td>2</td>\n",
       "      <td>39.0</td>\n",
       "      <td>150.0</td>\n",
       "      <td>72.0</td>\n",
       "      <td>NaN</td>\n",
       "      <td>8.5</td>\n",
       "      <td>9400</td>\n",
       "    </tr>\n",
       "    <tr>\n",
       "      <th>55</th>\n",
       "      <td>1.0</td>\n",
       "      <td>2</td>\n",
       "      <td>38.6</td>\n",
       "      <td>160.0</td>\n",
       "      <td>20.0</td>\n",
       "      <td>3.0</td>\n",
       "      <td>NaN</td>\n",
       "      <td>7111</td>\n",
       "    </tr>\n",
       "    <tr>\n",
       "      <th>255</th>\n",
       "      <td>1.0</td>\n",
       "      <td>2</td>\n",
       "      <td>38.8</td>\n",
       "      <td>184.0</td>\n",
       "      <td>84.0</td>\n",
       "      <td>1.0</td>\n",
       "      <td>3.3</td>\n",
       "      <td>7111</td>\n",
       "    </tr>\n",
       "    <tr>\n",
       "      <th>275</th>\n",
       "      <td>1.0</td>\n",
       "      <td>2</td>\n",
       "      <td>38.8</td>\n",
       "      <td>150.0</td>\n",
       "      <td>50.0</td>\n",
       "      <td>1.0</td>\n",
       "      <td>6.2</td>\n",
       "      <td>4207</td>\n",
       "    </tr>\n",
       "  </tbody>\n",
       "</table>\n",
       "</div>"
      ],
      "text/plain": [
       "     surgery  Age  rectal temperature  pulse  respiratory rate  \\\n",
       "3        1.0    2                39.1  164.0              84.0   \n",
       "41       2.0    2                39.0  150.0              72.0   \n",
       "55       1.0    2                38.6  160.0              20.0   \n",
       "255      1.0    2                38.8  184.0              84.0   \n",
       "275      1.0    2                38.8  150.0              50.0   \n",
       "\n",
       "     temperature of extremities  total protein  type of lesion  \n",
       "3                           4.0            7.2            2208  \n",
       "41                          NaN            8.5            9400  \n",
       "55                          3.0            NaN            7111  \n",
       "255                         1.0            3.3            7111  \n",
       "275                         1.0            6.2            4207  "
      ]
     },
     "execution_count": 16,
     "metadata": {},
     "output_type": "execute_result"
    }
   ],
   "source": [
    "pulse = pd.concat([df_new, remove_outliers]).drop_duplicates(keep=False)\n",
    "pulse.dropna(subset=['pulse'], inplace=True)\n",
    "pulse"
   ]
  },
  {
   "cell_type": "markdown",
   "metadata": {},
   "source": [
    "Частота сердечных сокращений может увеличиваться, когда лошадь возбуждена, перегрета или страдает сильным обезвоживанием, лихорадкой, инфекцией или сепсисом , сильной кровопотерей, тяжелым заболеванием сердца или легких или **шоком**. В этих случаях частота пульса в состоянии покоя у животного может быть выше 80. В наших данных есть атрибут **temperature of extremities**, который указывает что у лошади возможен шок. Таким образом, значения с высоким пульсом и значениями показателя **temperature of extremities** от 3 до 4 необходимо оставить в датасете. Значения, при которых **temperature of extremities** от 1 до 2, при наличии нормальной температуры **(до 39)**, а также нормальном уровне протеинов **total protein** необходимо убрать из датасета, так как нет оснований пологать, что у лошади шок, инфекция или обезвоживание, которые могут влиять на повышение пульса животого. "
   ]
  },
  {
   "cell_type": "markdown",
   "metadata": {},
   "source": [
    "## **respiratory rate**"
   ]
  },
  {
   "cell_type": "code",
   "execution_count": 17,
   "metadata": {},
   "outputs": [
    {
     "data": {
      "image/png": "[encoded data removed]",
      "text/plain": [
       "<Figure size 720x216 with 1 Axes>"
      ]
     },
     "metadata": {
      "needs_background": "light"
     },
     "output_type": "display_data"
    }
   ],
   "source": [
    "plt.figure(figsize=(10, 3))\n",
    "ax = sns.boxplot(x='respiratory rate', data=df_new)"
   ]
  },
  {
   "cell_type": "code",
   "execution_count": 18,
   "metadata": {},
   "outputs": [
    {
     "data": {
      "text/plain": [
       "225"
      ]
     },
     "execution_count": 18,
     "metadata": {},
     "output_type": "execute_result"
    }
   ],
   "source": [
    "q1 = df_new['respiratory rate'].quantile(0.25)\n",
    "q3 = df_new['respiratory rate'].quantile(0.75)\n",
    "iqr = q3 - q1\n",
    "lower_bound = q1 - (1.5 * iqr) \n",
    "upper_bound = q3 + (1.5 * iqr)\n",
    "remove_outliers = df_new[df_new['respiratory rate'].between(lower_bound, upper_bound, inclusive=True)]\n",
    "len(remove_outliers)"
   ]
  },
  {
   "cell_type": "code",
   "execution_count": 19,
   "metadata": {},
   "outputs": [
    {
     "data": {
      "text/html": [
       "<div>\n",
       "<style scoped>\n",
       "    .dataframe tbody tr th:only-of-type {\n",
       "        vertical-align: middle;\n",
       "    }\n",
       "\n",
       "    .dataframe tbody tr th {\n",
       "        vertical-align: top;\n",
       "    }\n",
       "\n",
       "    .dataframe thead th {\n",
       "        text-align: right;\n",
       "    }\n",
       "</style>\n",
       "<table border=\"1\" class=\"dataframe\">\n",
       "  <thead>\n",
       "    <tr style=\"text-align: right;\">\n",
       "      <th></th>\n",
       "      <th>surgery</th>\n",
       "      <th>Age</th>\n",
       "      <th>rectal temperature</th>\n",
       "      <th>pulse</th>\n",
       "      <th>respiratory rate</th>\n",
       "      <th>temperature of extremities</th>\n",
       "      <th>total protein</th>\n",
       "      <th>type of lesion</th>\n",
       "    </tr>\n",
       "  </thead>\n",
       "  <tbody>\n",
       "    <tr>\n",
       "      <th>3</th>\n",
       "      <td>1.0</td>\n",
       "      <td>2</td>\n",
       "      <td>39.1</td>\n",
       "      <td>164.0</td>\n",
       "      <td>84.0</td>\n",
       "      <td>4.0</td>\n",
       "      <td>7.2</td>\n",
       "      <td>2208</td>\n",
       "    </tr>\n",
       "    <tr>\n",
       "      <th>39</th>\n",
       "      <td>1.0</td>\n",
       "      <td>2</td>\n",
       "      <td>39.2</td>\n",
       "      <td>146.0</td>\n",
       "      <td>96.0</td>\n",
       "      <td>NaN</td>\n",
       "      <td>NaN</td>\n",
       "      <td>2113</td>\n",
       "    </tr>\n",
       "    <tr>\n",
       "      <th>41</th>\n",
       "      <td>2.0</td>\n",
       "      <td>2</td>\n",
       "      <td>39.0</td>\n",
       "      <td>150.0</td>\n",
       "      <td>72.0</td>\n",
       "      <td>NaN</td>\n",
       "      <td>8.5</td>\n",
       "      <td>9400</td>\n",
       "    </tr>\n",
       "    <tr>\n",
       "      <th>82</th>\n",
       "      <td>1.0</td>\n",
       "      <td>2</td>\n",
       "      <td>38.1</td>\n",
       "      <td>100.0</td>\n",
       "      <td>80.0</td>\n",
       "      <td>3.0</td>\n",
       "      <td>5.7</td>\n",
       "      <td>3111</td>\n",
       "    </tr>\n",
       "    <tr>\n",
       "      <th>84</th>\n",
       "      <td>1.0</td>\n",
       "      <td>1</td>\n",
       "      <td>37.8</td>\n",
       "      <td>60.0</td>\n",
       "      <td>80.0</td>\n",
       "      <td>1.0</td>\n",
       "      <td>4.5</td>\n",
       "      <td>5206</td>\n",
       "    </tr>\n",
       "    <tr>\n",
       "      <th>103</th>\n",
       "      <td>1.0</td>\n",
       "      <td>2</td>\n",
       "      <td>38.0</td>\n",
       "      <td>140.0</td>\n",
       "      <td>68.0</td>\n",
       "      <td>1.0</td>\n",
       "      <td>5.3</td>\n",
       "      <td>7111</td>\n",
       "    </tr>\n",
       "    <tr>\n",
       "      <th>106</th>\n",
       "      <td>1.0</td>\n",
       "      <td>1</td>\n",
       "      <td>38.3</td>\n",
       "      <td>52.0</td>\n",
       "      <td>96.0</td>\n",
       "      <td>NaN</td>\n",
       "      <td>6.1</td>\n",
       "      <td>3209</td>\n",
       "    </tr>\n",
       "    <tr>\n",
       "      <th>120</th>\n",
       "      <td>1.0</td>\n",
       "      <td>1</td>\n",
       "      <td>39.4</td>\n",
       "      <td>54.0</td>\n",
       "      <td>66.0</td>\n",
       "      <td>1.0</td>\n",
       "      <td>6.0</td>\n",
       "      <td>2206</td>\n",
       "    </tr>\n",
       "    <tr>\n",
       "      <th>125</th>\n",
       "      <td>1.0</td>\n",
       "      <td>1</td>\n",
       "      <td>38.0</td>\n",
       "      <td>42.0</td>\n",
       "      <td>68.0</td>\n",
       "      <td>4.0</td>\n",
       "      <td>7.6</td>\n",
       "      <td>2205</td>\n",
       "    </tr>\n",
       "    <tr>\n",
       "      <th>186</th>\n",
       "      <td>1.0</td>\n",
       "      <td>1</td>\n",
       "      <td>39.3</td>\n",
       "      <td>64.0</td>\n",
       "      <td>90.0</td>\n",
       "      <td>2.0</td>\n",
       "      <td>6.7</td>\n",
       "      <td>21110</td>\n",
       "    </tr>\n",
       "    <tr>\n",
       "      <th>208</th>\n",
       "      <td>1.0</td>\n",
       "      <td>1</td>\n",
       "      <td>37.8</td>\n",
       "      <td>88.0</td>\n",
       "      <td>80.0</td>\n",
       "      <td>3.0</td>\n",
       "      <td>89.0</td>\n",
       "      <td>3205</td>\n",
       "    </tr>\n",
       "    <tr>\n",
       "      <th>229</th>\n",
       "      <td>1.0</td>\n",
       "      <td>2</td>\n",
       "      <td>38.5</td>\n",
       "      <td>120.0</td>\n",
       "      <td>70.0</td>\n",
       "      <td>NaN</td>\n",
       "      <td>54.0</td>\n",
       "      <td>4205</td>\n",
       "    </tr>\n",
       "    <tr>\n",
       "      <th>244</th>\n",
       "      <td>1.0</td>\n",
       "      <td>2</td>\n",
       "      <td>38.2</td>\n",
       "      <td>124.0</td>\n",
       "      <td>88.0</td>\n",
       "      <td>1.0</td>\n",
       "      <td>8.0</td>\n",
       "      <td>9400</td>\n",
       "    </tr>\n",
       "    <tr>\n",
       "      <th>255</th>\n",
       "      <td>1.0</td>\n",
       "      <td>2</td>\n",
       "      <td>38.8</td>\n",
       "      <td>184.0</td>\n",
       "      <td>84.0</td>\n",
       "      <td>1.0</td>\n",
       "      <td>3.3</td>\n",
       "      <td>7111</td>\n",
       "    </tr>\n",
       "    <tr>\n",
       "      <th>265</th>\n",
       "      <td>2.0</td>\n",
       "      <td>1</td>\n",
       "      <td>NaN</td>\n",
       "      <td>56.0</td>\n",
       "      <td>68.0</td>\n",
       "      <td>3.0</td>\n",
       "      <td>6.0</td>\n",
       "      <td>5206</td>\n",
       "    </tr>\n",
       "    <tr>\n",
       "      <th>269</th>\n",
       "      <td>1.0</td>\n",
       "      <td>1</td>\n",
       "      <td>39.3</td>\n",
       "      <td>64.0</td>\n",
       "      <td>90.0</td>\n",
       "      <td>2.0</td>\n",
       "      <td>6.7</td>\n",
       "      <td>31110</td>\n",
       "    </tr>\n",
       "    <tr>\n",
       "      <th>295</th>\n",
       "      <td>1.0</td>\n",
       "      <td>1</td>\n",
       "      <td>NaN</td>\n",
       "      <td>120.0</td>\n",
       "      <td>70.0</td>\n",
       "      <td>4.0</td>\n",
       "      <td>65.0</td>\n",
       "      <td>3205</td>\n",
       "    </tr>\n",
       "  </tbody>\n",
       "</table>\n",
       "</div>"
      ],
      "text/plain": [
       "     surgery  Age  rectal temperature  pulse  respiratory rate  \\\n",
       "3        1.0    2                39.1  164.0              84.0   \n",
       "39       1.0    2                39.2  146.0              96.0   \n",
       "41       2.0    2                39.0  150.0              72.0   \n",
       "82       1.0    2                38.1  100.0              80.0   \n",
       "84       1.0    1                37.8   60.0              80.0   \n",
       "103      1.0    2                38.0  140.0              68.0   \n",
       "106      1.0    1                38.3   52.0              96.0   \n",
       "120      1.0    1                39.4   54.0              66.0   \n",
       "125      1.0    1                38.0   42.0              68.0   \n",
       "186      1.0    1                39.3   64.0              90.0   \n",
       "208      1.0    1                37.8   88.0              80.0   \n",
       "229      1.0    2                38.5  120.0              70.0   \n",
       "244      1.0    2                38.2  124.0              88.0   \n",
       "255      1.0    2                38.8  184.0              84.0   \n",
       "265      2.0    1                 NaN   56.0              68.0   \n",
       "269      1.0    1                39.3   64.0              90.0   \n",
       "295      1.0    1                 NaN  120.0              70.0   \n",
       "\n",
       "     temperature of extremities  total protein  type of lesion  \n",
       "3                           4.0            7.2            2208  \n",
       "39                          NaN            NaN            2113  \n",
       "41                          NaN            8.5            9400  \n",
       "82                          3.0            5.7            3111  \n",
       "84                          1.0            4.5            5206  \n",
       "103                         1.0            5.3            7111  \n",
       "106                         NaN            6.1            3209  \n",
       "120                         1.0            6.0            2206  \n",
       "125                         4.0            7.6            2205  \n",
       "186                         2.0            6.7           21110  \n",
       "208                         3.0           89.0            3205  \n",
       "229                         NaN           54.0            4205  \n",
       "244                         1.0            8.0            9400  \n",
       "255                         1.0            3.3            7111  \n",
       "265                         3.0            6.0            5206  \n",
       "269                         2.0            6.7           31110  \n",
       "295                         4.0           65.0            3205  "
      ]
     },
     "execution_count": 19,
     "metadata": {},
     "output_type": "execute_result"
    }
   ],
   "source": [
    "respiratory_rate = pd.concat([df_new, remove_outliers]).drop_duplicates(keep=False)\n",
    "respiratory_rate.dropna(subset=['respiratory rate'], inplace=True)\n",
    "respiratory_rate"
   ]
  },
  {
   "cell_type": "markdown",
   "metadata": {},
   "source": [
    "Высокие показатели **respiratory rate** обусловлены высоким пульсом у лошади или высокой температурой. Данные с высоким пульсом и частотой дыхания необходимо оставить, так же как и даные с высокой температурой и высокой частотой дыхания, а данные с нормальным пульсом и высокой чстотой дыхания, а также нормальной температурой необходимо удалить, так как нет оснований предположить, что частота дыхания повысилась от высокого пульса (это либо заболевание либо физ нагрузка) или от перегрева, о чем должна свидетельствовать высокая температура."
   ]
  },
  {
   "cell_type": "markdown",
   "metadata": {},
   "source": [
    "## **total protein**"
   ]
  },
  {
   "cell_type": "code",
   "execution_count": 20,
   "metadata": {},
   "outputs": [
    {
     "data": {
      "image/png": "[encoded data removed]",
      "text/plain": [
       "<Figure size 720x216 with 1 Axes>"
      ]
     },
     "metadata": {
      "needs_background": "light"
     },
     "output_type": "display_data"
    }
   ],
   "source": [
    "plt.figure(figsize=(10, 3))\n",
    "ax = sns.boxplot(x='total protein', data=df)"
   ]
  },
  {
   "cell_type": "code",
   "execution_count": 21,
   "metadata": {},
   "outputs": [
    {
     "data": {
      "text/plain": [
       "267"
      ]
     },
     "execution_count": 21,
     "metadata": {},
     "output_type": "execute_result"
    }
   ],
   "source": [
    "q1 = df_new['total protein'].quantile(0.25)\n",
    "q3 = df_new['total protein'].quantile(0.75)\n",
    "iqr = q3 - q1\n",
    "lower_bound = q1 - (1.5 * iqr) \n",
    "upper_bound = q3 + (1.5 * iqr)\n",
    "remove_outliers = df_new[df_new['total protein'].between(lower_bound, upper_bound, inclusive=True)]\n",
    "len(remove_outliers)"
   ]
  },
  {
   "cell_type": "code",
   "execution_count": 22,
   "metadata": {},
   "outputs": [
    {
     "data": {
      "text/html": [
       "<div>\n",
       "<style scoped>\n",
       "    .dataframe tbody tr th:only-of-type {\n",
       "        vertical-align: middle;\n",
       "    }\n",
       "\n",
       "    .dataframe tbody tr th {\n",
       "        vertical-align: top;\n",
       "    }\n",
       "\n",
       "    .dataframe thead th {\n",
       "        text-align: right;\n",
       "    }\n",
       "</style>\n",
       "<table border=\"1\" class=\"dataframe\">\n",
       "  <thead>\n",
       "    <tr style=\"text-align: right;\">\n",
       "      <th></th>\n",
       "      <th>surgery</th>\n",
       "      <th>Age</th>\n",
       "      <th>rectal temperature</th>\n",
       "      <th>pulse</th>\n",
       "      <th>respiratory rate</th>\n",
       "      <th>temperature of extremities</th>\n",
       "      <th>total protein</th>\n",
       "      <th>type of lesion</th>\n",
       "    </tr>\n",
       "  </thead>\n",
       "  <tbody>\n",
       "  </tbody>\n",
       "</table>\n",
       "</div>"
      ],
      "text/plain": [
       "Empty DataFrame\n",
       "Columns: [surgery, Age, rectal temperature, pulse, respiratory rate, temperature of extremities, total protein, type of lesion]\n",
       "Index: []"
      ]
     },
     "execution_count": 22,
     "metadata": {},
     "output_type": "execute_result"
    }
   ],
   "source": [
    "total_protein = pd.concat([df_new, remove_outliers]).drop_duplicates(keep=False)\n",
    "total_protein.dropna(subset=['total protein'], inplace=True)\n",
    "total_protein"
   ]
  },
  {
   "cell_type": "markdown",
   "metadata": {},
   "source": [
    "Не смотря на размах в данных, аномальных значений в данных на основании построенного графика а также межквартильном размахе нет. В аномальные значения попали пропуски в данных."
   ]
  },
  {
   "cell_type": "code",
   "execution_count": 23,
   "metadata": {},
   "outputs": [
    {
     "name": "stdout",
     "output_type": "stream",
     "text": [
      "[nan, nan, nan, nan, nan, nan, nan, nan, nan, nan, nan, nan, nan, nan, nan, nan, nan, nan, nan, nan, nan, nan, nan, nan, nan, nan, nan, nan, nan, nan, nan, nan, nan]\n"
     ]
    }
   ],
   "source": [
    "print(pd.concat([df_new, remove_outliers]).drop_duplicates(keep=False)['total protein'].tolist())"
   ]
  },
  {
   "cell_type": "markdown",
   "metadata": {},
   "source": [
    "## 3. Рассчитаем количество пропусков в датасете. Примем и обоснуем решение о методе работы с пропусками по каждому столбцу, сформируем датафрейм, в котором пропуски будут отсутствовать."
   ]
  },
  {
   "cell_type": "code",
   "execution_count": 24,
   "metadata": {},
   "outputs": [
    {
     "name": "stdout",
     "output_type": "stream",
     "text": [
      "<class 'pandas.core.frame.DataFrame'>\n",
      "RangeIndex: 300 entries, 0 to 299\n",
      "Data columns (total 8 columns):\n",
      " #   Column                      Non-Null Count  Dtype  \n",
      "---  ------                      --------------  -----  \n",
      " 0   surgery                     299 non-null    float64\n",
      " 1   Age                         300 non-null    int64  \n",
      " 2   rectal temperature          240 non-null    float64\n",
      " 3   pulse                       276 non-null    float64\n",
      " 4   respiratory rate            242 non-null    float64\n",
      " 5   temperature of extremities  244 non-null    float64\n",
      " 6   total protein               267 non-null    float64\n",
      " 7   type of lesion              300 non-null    int64  \n",
      "dtypes: float64(6), int64(2)\n",
      "memory usage: 18.9 KB\n"
     ]
    }
   ],
   "source": [
    "df_new.info()"
   ]
  },
  {
   "cell_type": "code",
   "execution_count": 25,
   "metadata": {
    "scrolled": true
   },
   "outputs": [
    {
     "name": "stdout",
     "output_type": "stream",
     "text": [
      "surgery - 0.33%\n",
      "Age - 0.00%\n",
      "rectal temperature - 20.00%\n",
      "pulse - 8.00%\n",
      "respiratory rate - 19.33%\n",
      "temperature of extremities - 18.67%\n",
      "total protein - 11.00%\n",
      "type of lesion - 0.00%\n"
     ]
    }
   ],
   "source": [
    "for col in df_new.columns:\n",
    "    pct_missing = df[col].isnull().mean()\n",
    "    print(f'{col} - {pct_missing :.2%}')"
   ]
  },
  {
   "cell_type": "markdown",
   "metadata": {},
   "source": [
    "## Атрибут **surgery**. "
   ]
  },
  {
   "cell_type": "markdown",
   "metadata": {},
   "source": [
    "Так как количество пропусков не значительно можем смело их удалить."
   ]
  },
  {
   "cell_type": "code",
   "execution_count": 26,
   "metadata": {},
   "outputs": [
    {
     "name": "stdout",
     "output_type": "stream",
     "text": [
      "1.3979933110367893\n",
      "1.0\n",
      "1.0\n",
      "0.49030464432881815\n",
      "0.24039864425040888\n"
     ]
    }
   ],
   "source": [
    "print(df_new.surgery.mean())\n",
    "print(df_new.surgery.median())\n",
    "print(df_new.surgery.mode()[0])\n",
    "\n",
    "print(df_new.surgery.std())\n",
    "print(df_new.surgery.var())"
   ]
  },
  {
   "cell_type": "code",
   "execution_count": 27,
   "metadata": {},
   "outputs": [],
   "source": [
    "df_new.dropna(subset=['surgery'], inplace=True)"
   ]
  },
  {
   "cell_type": "code",
   "execution_count": 28,
   "metadata": {},
   "outputs": [
    {
     "name": "stdout",
     "output_type": "stream",
     "text": [
      "<class 'pandas.core.frame.DataFrame'>\n",
      "Int64Index: 299 entries, 0 to 299\n",
      "Data columns (total 8 columns):\n",
      " #   Column                      Non-Null Count  Dtype  \n",
      "---  ------                      --------------  -----  \n",
      " 0   surgery                     299 non-null    float64\n",
      " 1   Age                         299 non-null    int64  \n",
      " 2   rectal temperature          239 non-null    float64\n",
      " 3   pulse                       275 non-null    float64\n",
      " 4   respiratory rate            241 non-null    float64\n",
      " 5   temperature of extremities  243 non-null    float64\n",
      " 6   total protein               266 non-null    float64\n",
      " 7   type of lesion              299 non-null    int64  \n",
      "dtypes: float64(6), int64(2)\n",
      "memory usage: 21.0 KB\n"
     ]
    }
   ],
   "source": [
    "df_new.info()"
   ]
  },
  {
   "cell_type": "code",
   "execution_count": 29,
   "metadata": {},
   "outputs": [
    {
     "name": "stdout",
     "output_type": "stream",
     "text": [
      "1.3979933110367893\n",
      "1.0\n",
      "1.0\n",
      "0.49030464432881815\n",
      "0.24039864425040888\n"
     ]
    }
   ],
   "source": [
    "print(df_new.surgery.mean())\n",
    "print(df_new.surgery.median())\n",
    "print(df_new.surgery.mode()[0])\n",
    "\n",
    "print(df_new.surgery.std())\n",
    "print(df_new.surgery.var())"
   ]
  },
  {
   "cell_type": "markdown",
   "metadata": {},
   "source": [
    "Удалилась всего одна строчка, на наших статистиках это никак не отразилось."
   ]
  },
  {
   "cell_type": "markdown",
   "metadata": {},
   "source": [
    "## Атрибут rectal temperature. "
   ]
  },
  {
   "cell_type": "code",
   "execution_count": 30,
   "metadata": {},
   "outputs": [
    {
     "name": "stdout",
     "output_type": "stream",
     "text": [
      "surgery - 0.00%\n",
      "Age - 0.00%\n",
      "rectal temperature - 20.07%\n",
      "pulse - 8.03%\n",
      "respiratory rate - 19.40%\n",
      "temperature of extremities - 18.73%\n",
      "total protein - 11.04%\n",
      "type of lesion - 0.00%\n"
     ]
    }
   ],
   "source": [
    "for col in df_new.columns:\n",
    "    pct_missing = df_new[col].isnull().mean()\n",
    "    print(f'{col} - {pct_missing :.2%}')"
   ]
  },
  {
   "cell_type": "code",
   "execution_count": 31,
   "metadata": {},
   "outputs": [
    {
     "data": {
      "text/html": [
       "<div>\n",
       "<style scoped>\n",
       "    .dataframe tbody tr th:only-of-type {\n",
       "        vertical-align: middle;\n",
       "    }\n",
       "\n",
       "    .dataframe tbody tr th {\n",
       "        vertical-align: top;\n",
       "    }\n",
       "\n",
       "    .dataframe thead th {\n",
       "        text-align: right;\n",
       "    }\n",
       "</style>\n",
       "<table border=\"1\" class=\"dataframe\">\n",
       "  <thead>\n",
       "    <tr style=\"text-align: right;\">\n",
       "      <th></th>\n",
       "      <th>surgery</th>\n",
       "      <th>Age</th>\n",
       "      <th>rectal temperature</th>\n",
       "      <th>pulse</th>\n",
       "      <th>respiratory rate</th>\n",
       "      <th>temperature of extremities</th>\n",
       "      <th>total protein</th>\n",
       "      <th>type of lesion</th>\n",
       "    </tr>\n",
       "  </thead>\n",
       "  <tbody>\n",
       "    <tr>\n",
       "      <th>count</th>\n",
       "      <td>299.000000</td>\n",
       "      <td>299.000000</td>\n",
       "      <td>239.000000</td>\n",
       "      <td>275.000000</td>\n",
       "      <td>241.000000</td>\n",
       "      <td>243.000000</td>\n",
       "      <td>266.000000</td>\n",
       "      <td>299.000000</td>\n",
       "    </tr>\n",
       "    <tr>\n",
       "      <th>mean</th>\n",
       "      <td>1.397993</td>\n",
       "      <td>1.080268</td>\n",
       "      <td>38.168619</td>\n",
       "      <td>72.000000</td>\n",
       "      <td>30.460581</td>\n",
       "      <td>2.345679</td>\n",
       "      <td>24.274436</td>\n",
       "      <td>3659.709030</td>\n",
       "    </tr>\n",
       "    <tr>\n",
       "      <th>std</th>\n",
       "      <td>0.490305</td>\n",
       "      <td>0.272162</td>\n",
       "      <td>0.733744</td>\n",
       "      <td>28.646219</td>\n",
       "      <td>17.666102</td>\n",
       "      <td>1.046369</td>\n",
       "      <td>27.364194</td>\n",
       "      <td>5408.472421</td>\n",
       "    </tr>\n",
       "    <tr>\n",
       "      <th>min</th>\n",
       "      <td>1.000000</td>\n",
       "      <td>1.000000</td>\n",
       "      <td>35.400000</td>\n",
       "      <td>30.000000</td>\n",
       "      <td>8.000000</td>\n",
       "      <td>1.000000</td>\n",
       "      <td>3.300000</td>\n",
       "      <td>0.000000</td>\n",
       "    </tr>\n",
       "    <tr>\n",
       "      <th>25%</th>\n",
       "      <td>1.000000</td>\n",
       "      <td>1.000000</td>\n",
       "      <td>37.800000</td>\n",
       "      <td>48.000000</td>\n",
       "      <td>18.000000</td>\n",
       "      <td>1.000000</td>\n",
       "      <td>6.500000</td>\n",
       "      <td>2111.500000</td>\n",
       "    </tr>\n",
       "    <tr>\n",
       "      <th>50%</th>\n",
       "      <td>1.000000</td>\n",
       "      <td>1.000000</td>\n",
       "      <td>38.200000</td>\n",
       "      <td>64.000000</td>\n",
       "      <td>25.000000</td>\n",
       "      <td>3.000000</td>\n",
       "      <td>7.500000</td>\n",
       "      <td>2322.000000</td>\n",
       "    </tr>\n",
       "    <tr>\n",
       "      <th>75%</th>\n",
       "      <td>2.000000</td>\n",
       "      <td>1.000000</td>\n",
       "      <td>38.500000</td>\n",
       "      <td>88.000000</td>\n",
       "      <td>36.000000</td>\n",
       "      <td>3.000000</td>\n",
       "      <td>56.750000</td>\n",
       "      <td>3209.000000</td>\n",
       "    </tr>\n",
       "    <tr>\n",
       "      <th>max</th>\n",
       "      <td>2.000000</td>\n",
       "      <td>2.000000</td>\n",
       "      <td>40.800000</td>\n",
       "      <td>184.000000</td>\n",
       "      <td>96.000000</td>\n",
       "      <td>4.000000</td>\n",
       "      <td>89.000000</td>\n",
       "      <td>41110.000000</td>\n",
       "    </tr>\n",
       "  </tbody>\n",
       "</table>\n",
       "</div>"
      ],
      "text/plain": [
       "          surgery         Age  rectal temperature       pulse  \\\n",
       "count  299.000000  299.000000          239.000000  275.000000   \n",
       "mean     1.397993    1.080268           38.168619   72.000000   \n",
       "std      0.490305    0.272162            0.733744   28.646219   \n",
       "min      1.000000    1.000000           35.400000   30.000000   \n",
       "25%      1.000000    1.000000           37.800000   48.000000   \n",
       "50%      1.000000    1.000000           38.200000   64.000000   \n",
       "75%      2.000000    1.000000           38.500000   88.000000   \n",
       "max      2.000000    2.000000           40.800000  184.000000   \n",
       "\n",
       "       respiratory rate  temperature of extremities  total protein  \\\n",
       "count        241.000000                  243.000000     266.000000   \n",
       "mean          30.460581                    2.345679      24.274436   \n",
       "std           17.666102                    1.046369      27.364194   \n",
       "min            8.000000                    1.000000       3.300000   \n",
       "25%           18.000000                    1.000000       6.500000   \n",
       "50%           25.000000                    3.000000       7.500000   \n",
       "75%           36.000000                    3.000000      56.750000   \n",
       "max           96.000000                    4.000000      89.000000   \n",
       "\n",
       "       type of lesion  \n",
       "count      299.000000  \n",
       "mean      3659.709030  \n",
       "std       5408.472421  \n",
       "min          0.000000  \n",
       "25%       2111.500000  \n",
       "50%       2322.000000  \n",
       "75%       3209.000000  \n",
       "max      41110.000000  "
      ]
     },
     "execution_count": 31,
     "metadata": {},
     "output_type": "execute_result"
    }
   ],
   "source": [
    "df_new.describe()"
   ]
  },
  {
   "cell_type": "markdown",
   "metadata": {},
   "source": [
    "В данном случае, так как в наших данных не большой разброс и нет выбросов заменим пропуски средним значениме."
   ]
  },
  {
   "cell_type": "code",
   "execution_count": 32,
   "metadata": {},
   "outputs": [
    {
     "name": "stdout",
     "output_type": "stream",
     "text": [
      "38.16861924686195\n",
      "38.2\n",
      "38.0\n",
      "0.7337444096002365\n",
      "0.5383808586195995\n"
     ]
    }
   ],
   "source": [
    "print(df_new['rectal temperature'].mean())\n",
    "print(df_new['rectal temperature'].median())\n",
    "print(df_new['rectal temperature'].mode()[0])\n",
    "\n",
    "print(df_new['rectal temperature'].std())\n",
    "print(df_new['rectal temperature'].var())"
   ]
  },
  {
   "cell_type": "code",
   "execution_count": 33,
   "metadata": {},
   "outputs": [],
   "source": [
    "df_new['rectal temperature'].fillna(df_new['rectal temperature'].mean(), inplace=True)"
   ]
  },
  {
   "cell_type": "code",
   "execution_count": 34,
   "metadata": {},
   "outputs": [
    {
     "name": "stdout",
     "output_type": "stream",
     "text": [
      "38.168619246861994\n",
      "38.16861924686195\n",
      "38.16861924686195\n",
      "0.6557301487845806\n",
      "0.42998202802504815\n"
     ]
    }
   ],
   "source": [
    "print(df_new['rectal temperature'].mean())\n",
    "print(df_new['rectal temperature'].median())\n",
    "print(df_new['rectal temperature'].mode()[0])\n",
    "\n",
    "print(df_new['rectal temperature'].std())\n",
    "print(df_new['rectal temperature'].var())"
   ]
  },
  {
   "cell_type": "markdown",
   "metadata": {},
   "source": [
    "Наши статистики сильно не поменялись."
   ]
  },
  {
   "cell_type": "code",
   "execution_count": 35,
   "metadata": {},
   "outputs": [
    {
     "name": "stdout",
     "output_type": "stream",
     "text": [
      "<class 'pandas.core.frame.DataFrame'>\n",
      "Int64Index: 299 entries, 0 to 299\n",
      "Data columns (total 8 columns):\n",
      " #   Column                      Non-Null Count  Dtype  \n",
      "---  ------                      --------------  -----  \n",
      " 0   surgery                     299 non-null    float64\n",
      " 1   Age                         299 non-null    int64  \n",
      " 2   rectal temperature          299 non-null    float64\n",
      " 3   pulse                       275 non-null    float64\n",
      " 4   respiratory rate            241 non-null    float64\n",
      " 5   temperature of extremities  243 non-null    float64\n",
      " 6   total protein               266 non-null    float64\n",
      " 7   type of lesion              299 non-null    int64  \n",
      "dtypes: float64(6), int64(2)\n",
      "memory usage: 21.0 KB\n"
     ]
    }
   ],
   "source": [
    "df_new.info()"
   ]
  },
  {
   "cell_type": "markdown",
   "metadata": {},
   "source": [
    "## Атрибут pulse и respiratory rate."
   ]
  },
  {
   "cell_type": "code",
   "execution_count": 36,
   "metadata": {},
   "outputs": [
    {
     "name": "stdout",
     "output_type": "stream",
     "text": [
      "surgery - 0.00%\n",
      "Age - 0.00%\n",
      "rectal temperature - 0.00%\n",
      "pulse - 8.03%\n",
      "respiratory rate - 19.40%\n",
      "temperature of extremities - 18.73%\n",
      "total protein - 11.04%\n",
      "type of lesion - 0.00%\n"
     ]
    }
   ],
   "source": [
    "for col in df_new.columns:\n",
    "    pct_missing = df_new[col].isnull().mean()\n",
    "    print(f'{col} - {pct_missing :.2%}')"
   ]
  },
  {
   "cell_type": "markdown",
   "metadata": {},
   "source": [
    "Учитывая, что в данных атрибутах имеются выбросы заменим пропуски медианой. (В случает удаления выбросов на втором этапе данные можно заменить средним значением)"
   ]
  },
  {
   "cell_type": "code",
   "execution_count": 37,
   "metadata": {},
   "outputs": [
    {
     "name": "stdout",
     "output_type": "stream",
     "text": [
      "72.0\n",
      "64.0\n",
      "48.0\n",
      "28.646218588429058\n",
      "820.6058394160584\n"
     ]
    }
   ],
   "source": [
    "print(df_new['pulse'].mean())\n",
    "print(df_new['pulse'].median())\n",
    "print(df_new['pulse'].mode()[0])\n",
    "\n",
    "print(df_new['pulse'].std())\n",
    "print(df_new['pulse'].var())"
   ]
  },
  {
   "cell_type": "code",
   "execution_count": 38,
   "metadata": {},
   "outputs": [
    {
     "name": "stdout",
     "output_type": "stream",
     "text": [
      "30.46058091286307\n",
      "25.0\n",
      "20.0\n",
      "17.66610166376463\n",
      "312.0911479944674\n"
     ]
    }
   ],
   "source": [
    "print(df_new['respiratory rate'].mean())\n",
    "print(df_new['respiratory rate'].median())\n",
    "print(df_new['respiratory rate'].mode()[0])\n",
    "\n",
    "print(df_new['respiratory rate'].std())\n",
    "print(df_new['respiratory rate'].var())"
   ]
  },
  {
   "cell_type": "code",
   "execution_count": 39,
   "metadata": {},
   "outputs": [],
   "source": [
    "df_new['pulse'].fillna(df_new['pulse'].median(), inplace=True)\n",
    "df_new['respiratory rate'].fillna(df_new['respiratory rate'].median(), inplace=True)"
   ]
  },
  {
   "cell_type": "code",
   "execution_count": 40,
   "metadata": {},
   "outputs": [
    {
     "name": "stdout",
     "output_type": "stream",
     "text": [
      "71.35785953177258\n",
      "64.0\n",
      "64.0\n",
      "27.554625979183324\n",
      "759.2574128526846\n"
     ]
    }
   ],
   "source": [
    "print(df_new['pulse'].mean())\n",
    "print(df_new['pulse'].median())\n",
    "print(df_new['pulse'].mode()[0])\n",
    "\n",
    "print(df_new['pulse'].std())\n",
    "print(df_new['pulse'].var())"
   ]
  },
  {
   "cell_type": "code",
   "execution_count": 41,
   "metadata": {},
   "outputs": [
    {
     "name": "stdout",
     "output_type": "stream",
     "text": [
      "29.401337792642142\n",
      "25.0\n",
      "25.0\n",
      "16.000822070416792\n",
      "256.0263069291371\n"
     ]
    }
   ],
   "source": [
    "print(df_new['respiratory rate'].mean())\n",
    "print(df_new['respiratory rate'].median())\n",
    "print(df_new['respiratory rate'].mode()[0])\n",
    "\n",
    "print(df_new['respiratory rate'].std())\n",
    "print(df_new['respiratory rate'].var())"
   ]
  },
  {
   "cell_type": "markdown",
   "metadata": {},
   "source": [
    "В целом наши статистики по данным атрибутам не сильно отклонились. Данная замена допустима."
   ]
  },
  {
   "cell_type": "markdown",
   "metadata": {},
   "source": [
    "## Атрибут temperature of extremities."
   ]
  },
  {
   "cell_type": "code",
   "execution_count": 42,
   "metadata": {},
   "outputs": [
    {
     "name": "stdout",
     "output_type": "stream",
     "text": [
      "surgery - 0.00%\n",
      "Age - 0.00%\n",
      "rectal temperature - 0.00%\n",
      "pulse - 0.00%\n",
      "respiratory rate - 0.00%\n",
      "temperature of extremities - 18.73%\n",
      "total protein - 11.04%\n",
      "type of lesion - 0.00%\n"
     ]
    }
   ],
   "source": [
    "for col in df_new.columns:\n",
    "    pct_missing = df_new[col].isnull().mean()\n",
    "    print(f'{col} - {pct_missing :.2%}')"
   ]
  },
  {
   "cell_type": "code",
   "execution_count": 43,
   "metadata": {},
   "outputs": [
    {
     "data": {
      "text/plain": [
       "3.0    108\n",
       "1.0     78\n",
       "2.0     30\n",
       "4.0     27\n",
       "Name: temperature of extremities, dtype: int64"
      ]
     },
     "execution_count": 43,
     "metadata": {},
     "output_type": "execute_result"
    }
   ],
   "source": [
    "df_new['temperature of extremities'].value_counts()"
   ]
  },
  {
   "cell_type": "code",
   "execution_count": 44,
   "metadata": {},
   "outputs": [
    {
     "data": {
      "text/html": [
       "<div>\n",
       "<style scoped>\n",
       "    .dataframe tbody tr th:only-of-type {\n",
       "        vertical-align: middle;\n",
       "    }\n",
       "\n",
       "    .dataframe tbody tr th {\n",
       "        vertical-align: top;\n",
       "    }\n",
       "\n",
       "    .dataframe thead th {\n",
       "        text-align: right;\n",
       "    }\n",
       "</style>\n",
       "<table border=\"1\" class=\"dataframe\">\n",
       "  <thead>\n",
       "    <tr style=\"text-align: right;\">\n",
       "      <th></th>\n",
       "      <th>surgery</th>\n",
       "      <th>Age</th>\n",
       "      <th>rectal temperature</th>\n",
       "      <th>pulse</th>\n",
       "      <th>respiratory rate</th>\n",
       "      <th>temperature of extremities</th>\n",
       "      <th>total protein</th>\n",
       "      <th>type of lesion</th>\n",
       "    </tr>\n",
       "  </thead>\n",
       "  <tbody>\n",
       "    <tr>\n",
       "      <th>surgery</th>\n",
       "      <td>1.000000</td>\n",
       "      <td>-0.089319</td>\n",
       "      <td>0.036601</td>\n",
       "      <td>-0.176001</td>\n",
       "      <td>-0.176980</td>\n",
       "      <td>-0.116474</td>\n",
       "      <td>-0.044828</td>\n",
       "      <td>-0.163940</td>\n",
       "    </tr>\n",
       "    <tr>\n",
       "      <th>Age</th>\n",
       "      <td>-0.089319</td>\n",
       "      <td>1.000000</td>\n",
       "      <td>0.179149</td>\n",
       "      <td>0.505374</td>\n",
       "      <td>0.374781</td>\n",
       "      <td>-0.056107</td>\n",
       "      <td>-0.118103</td>\n",
       "      <td>0.022870</td>\n",
       "    </tr>\n",
       "    <tr>\n",
       "      <th>rectal temperature</th>\n",
       "      <td>0.036601</td>\n",
       "      <td>0.179149</td>\n",
       "      <td>1.000000</td>\n",
       "      <td>0.195025</td>\n",
       "      <td>0.231149</td>\n",
       "      <td>0.085543</td>\n",
       "      <td>-0.055535</td>\n",
       "      <td>0.053031</td>\n",
       "    </tr>\n",
       "    <tr>\n",
       "      <th>pulse</th>\n",
       "      <td>-0.176001</td>\n",
       "      <td>0.505374</td>\n",
       "      <td>0.195025</td>\n",
       "      <td>1.000000</td>\n",
       "      <td>0.433346</td>\n",
       "      <td>0.320169</td>\n",
       "      <td>-0.077896</td>\n",
       "      <td>0.072074</td>\n",
       "    </tr>\n",
       "    <tr>\n",
       "      <th>respiratory rate</th>\n",
       "      <td>-0.176980</td>\n",
       "      <td>0.374781</td>\n",
       "      <td>0.231149</td>\n",
       "      <td>0.433346</td>\n",
       "      <td>1.000000</td>\n",
       "      <td>0.098520</td>\n",
       "      <td>-0.085356</td>\n",
       "      <td>0.143630</td>\n",
       "    </tr>\n",
       "    <tr>\n",
       "      <th>temperature of extremities</th>\n",
       "      <td>-0.116474</td>\n",
       "      <td>-0.056107</td>\n",
       "      <td>0.085543</td>\n",
       "      <td>0.320169</td>\n",
       "      <td>0.098520</td>\n",
       "      <td>1.000000</td>\n",
       "      <td>0.006567</td>\n",
       "      <td>-0.020149</td>\n",
       "    </tr>\n",
       "    <tr>\n",
       "      <th>total protein</th>\n",
       "      <td>-0.044828</td>\n",
       "      <td>-0.118103</td>\n",
       "      <td>-0.055535</td>\n",
       "      <td>-0.077896</td>\n",
       "      <td>-0.085356</td>\n",
       "      <td>0.006567</td>\n",
       "      <td>1.000000</td>\n",
       "      <td>-0.181468</td>\n",
       "    </tr>\n",
       "    <tr>\n",
       "      <th>type of lesion</th>\n",
       "      <td>-0.163940</td>\n",
       "      <td>0.022870</td>\n",
       "      <td>0.053031</td>\n",
       "      <td>0.072074</td>\n",
       "      <td>0.143630</td>\n",
       "      <td>-0.020149</td>\n",
       "      <td>-0.181468</td>\n",
       "      <td>1.000000</td>\n",
       "    </tr>\n",
       "  </tbody>\n",
       "</table>\n",
       "</div>"
      ],
      "text/plain": [
       "                             surgery       Age  rectal temperature     pulse  \\\n",
       "surgery                     1.000000 -0.089319            0.036601 -0.176001   \n",
       "Age                        -0.089319  1.000000            0.179149  0.505374   \n",
       "rectal temperature          0.036601  0.179149            1.000000  0.195025   \n",
       "pulse                      -0.176001  0.505374            0.195025  1.000000   \n",
       "respiratory rate           -0.176980  0.374781            0.231149  0.433346   \n",
       "temperature of extremities -0.116474 -0.056107            0.085543  0.320169   \n",
       "total protein              -0.044828 -0.118103           -0.055535 -0.077896   \n",
       "type of lesion             -0.163940  0.022870            0.053031  0.072074   \n",
       "\n",
       "                            respiratory rate  temperature of extremities  \\\n",
       "surgery                            -0.176980                   -0.116474   \n",
       "Age                                 0.374781                   -0.056107   \n",
       "rectal temperature                  0.231149                    0.085543   \n",
       "pulse                               0.433346                    0.320169   \n",
       "respiratory rate                    1.000000                    0.098520   \n",
       "temperature of extremities          0.098520                    1.000000   \n",
       "total protein                      -0.085356                    0.006567   \n",
       "type of lesion                      0.143630                   -0.020149   \n",
       "\n",
       "                            total protein  type of lesion  \n",
       "surgery                         -0.044828       -0.163940  \n",
       "Age                             -0.118103        0.022870  \n",
       "rectal temperature              -0.055535        0.053031  \n",
       "pulse                           -0.077896        0.072074  \n",
       "respiratory rate                -0.085356        0.143630  \n",
       "temperature of extremities       0.006567       -0.020149  \n",
       "total protein                    1.000000       -0.181468  \n",
       "type of lesion                  -0.181468        1.000000  "
      ]
     },
     "execution_count": 44,
     "metadata": {},
     "output_type": "execute_result"
    }
   ],
   "source": [
    "df_new.corr()"
   ]
  },
  {
   "cell_type": "markdown",
   "metadata": {},
   "source": [
    "Учитывая отсутствие линейной зависимости **temperature of extremities** с другими атрибутами заменим пропуски модой."
   ]
  },
  {
   "cell_type": "code",
   "execution_count": 45,
   "metadata": {},
   "outputs": [
    {
     "data": {
      "text/plain": [
       "3.0    164\n",
       "1.0     78\n",
       "2.0     30\n",
       "4.0     27\n",
       "Name: temperature of extremities, dtype: int64"
      ]
     },
     "execution_count": 45,
     "metadata": {},
     "output_type": "execute_result"
    }
   ],
   "source": [
    "df_new['temperature of extremities'].fillna(df_new['temperature of extremities'].mode()[0], inplace=True)\n",
    "\n",
    "df_new['temperature of extremities'].value_counts()"
   ]
  },
  {
   "cell_type": "markdown",
   "metadata": {},
   "source": [
    "## Атрибут total protein."
   ]
  },
  {
   "cell_type": "code",
   "execution_count": 46,
   "metadata": {},
   "outputs": [
    {
     "name": "stdout",
     "output_type": "stream",
     "text": [
      "surgery - 0.00%\n",
      "Age - 0.00%\n",
      "rectal temperature - 0.00%\n",
      "pulse - 0.00%\n",
      "respiratory rate - 0.00%\n",
      "temperature of extremities - 0.00%\n",
      "total protein - 11.04%\n",
      "type of lesion - 0.00%\n"
     ]
    }
   ],
   "source": [
    "for col in df_new.columns:\n",
    "    pct_missing = df_new[col].isnull().mean()\n",
    "    print(f'{col} - {pct_missing :.2%}')"
   ]
  },
  {
   "cell_type": "code",
   "execution_count": 47,
   "metadata": {},
   "outputs": [
    {
     "name": "stdout",
     "output_type": "stream",
     "text": [
      "24.27443609022557\n",
      "7.5\n",
      "6.5\n",
      "27.364194079222113\n",
      "748.7991176053345\n"
     ]
    }
   ],
   "source": [
    "print(df_new['total protein'].mean())\n",
    "print(df_new['total protein'].median())\n",
    "print(df_new['total protein'].mode()[0])\n",
    "\n",
    "print(df_new['total protein'].std())\n",
    "print(df_new['total protein'].var())"
   ]
  },
  {
   "cell_type": "code",
   "execution_count": 48,
   "metadata": {},
   "outputs": [],
   "source": [
    "df_new['total protein'].fillna(df_new['total protein'].mean(), inplace=True)"
   ]
  },
  {
   "cell_type": "code",
   "execution_count": 49,
   "metadata": {},
   "outputs": [
    {
     "name": "stdout",
     "output_type": "stream",
     "text": [
      "24.274436090225556\n",
      "7.7\n",
      "24.27443609022557\n",
      "25.804619934249228\n",
      "665.8784099510526\n"
     ]
    }
   ],
   "source": [
    "print(df_new['total protein'].mean())\n",
    "print(df_new['total protein'].median())\n",
    "print(df_new['total protein'].mode()[0])\n",
    "\n",
    "print(df_new['total protein'].std())\n",
    "print(df_new['total protein'].var())"
   ]
  },
  {
   "cell_type": "markdown",
   "metadata": {},
   "source": [
    "Сильно увеличилась мода, но мат ожидание и медиана сильно не отклонились."
   ]
  },
  {
   "cell_type": "markdown",
   "metadata": {},
   "source": [
    "Получили датафрейм без пропусков."
   ]
  },
  {
   "cell_type": "code",
   "execution_count": 50,
   "metadata": {},
   "outputs": [
    {
     "name": "stdout",
     "output_type": "stream",
     "text": [
      "<class 'pandas.core.frame.DataFrame'>\n",
      "Int64Index: 299 entries, 0 to 299\n",
      "Data columns (total 8 columns):\n",
      " #   Column                      Non-Null Count  Dtype  \n",
      "---  ------                      --------------  -----  \n",
      " 0   surgery                     299 non-null    float64\n",
      " 1   Age                         299 non-null    int64  \n",
      " 2   rectal temperature          299 non-null    float64\n",
      " 3   pulse                       299 non-null    float64\n",
      " 4   respiratory rate            299 non-null    float64\n",
      " 5   temperature of extremities  299 non-null    float64\n",
      " 6   total protein               299 non-null    float64\n",
      " 7   type of lesion              299 non-null    int64  \n",
      "dtypes: float64(6), int64(2)\n",
      "memory usage: 21.0 KB\n"
     ]
    }
   ],
   "source": [
    "df_new.info()"
   ]
  },
  {
   "cell_type": "code",
   "execution_count": 51,
   "metadata": {},
   "outputs": [
    {
     "data": {
      "text/html": [
       "<div>\n",
       "<style scoped>\n",
       "    .dataframe tbody tr th:only-of-type {\n",
       "        vertical-align: middle;\n",
       "    }\n",
       "\n",
       "    .dataframe tbody tr th {\n",
       "        vertical-align: top;\n",
       "    }\n",
       "\n",
       "    .dataframe thead th {\n",
       "        text-align: right;\n",
       "    }\n",
       "</style>\n",
       "<table border=\"1\" class=\"dataframe\">\n",
       "  <thead>\n",
       "    <tr style=\"text-align: right;\">\n",
       "      <th></th>\n",
       "      <th>surgery</th>\n",
       "      <th>Age</th>\n",
       "      <th>Hospital Number</th>\n",
       "      <th>rectal temperature</th>\n",
       "      <th>pulse</th>\n",
       "      <th>respiratory rate</th>\n",
       "      <th>temperature of extremities</th>\n",
       "      <th>peripheral pulse</th>\n",
       "      <th>ucous membranes</th>\n",
       "      <th>capillary refill time</th>\n",
       "      <th>pain</th>\n",
       "      <th>peristalsis</th>\n",
       "      <th>abdominal distension</th>\n",
       "      <th>nasogastric tube</th>\n",
       "      <th>nasogastric reflux</th>\n",
       "      <th>nasogastric reflux PH</th>\n",
       "      <th>rectal examination</th>\n",
       "      <th>abdomen</th>\n",
       "      <th>packed cell volume</th>\n",
       "      <th>total protein</th>\n",
       "      <th>abdominocentesis appearance</th>\n",
       "      <th>abdomcentesis total protein</th>\n",
       "      <th>outcome</th>\n",
       "      <th>surgical lesion</th>\n",
       "      <th>type of lesion</th>\n",
       "      <th>cp_data</th>\n",
       "    </tr>\n",
       "  </thead>\n",
       "  <tbody>\n",
       "    <tr>\n",
       "      <th>count</th>\n",
       "      <td>299.000000</td>\n",
       "      <td>300.000000</td>\n",
       "      <td>3.000000e+02</td>\n",
       "      <td>240.000000</td>\n",
       "      <td>276.000000</td>\n",
       "      <td>242.000000</td>\n",
       "      <td>244.000000</td>\n",
       "      <td>231.000000</td>\n",
       "      <td>253.000000</td>\n",
       "      <td>268.000000</td>\n",
       "      <td>245.00000</td>\n",
       "      <td>256.000000</td>\n",
       "      <td>244.000000</td>\n",
       "      <td>196.000000</td>\n",
       "      <td>194.000000</td>\n",
       "      <td>53.000000</td>\n",
       "      <td>198.000000</td>\n",
       "      <td>182.000000</td>\n",
       "      <td>271.000000</td>\n",
       "      <td>267.000000</td>\n",
       "      <td>135.000000</td>\n",
       "      <td>102.000000</td>\n",
       "      <td>299.000000</td>\n",
       "      <td>300.000000</td>\n",
       "      <td>300.000000</td>\n",
       "      <td>300.000000</td>\n",
       "    </tr>\n",
       "    <tr>\n",
       "      <th>mean</th>\n",
       "      <td>1.397993</td>\n",
       "      <td>1.080000</td>\n",
       "      <td>1.085889e+06</td>\n",
       "      <td>38.167917</td>\n",
       "      <td>71.913043</td>\n",
       "      <td>30.417355</td>\n",
       "      <td>2.348361</td>\n",
       "      <td>2.017316</td>\n",
       "      <td>2.853755</td>\n",
       "      <td>1.305970</td>\n",
       "      <td>2.95102</td>\n",
       "      <td>2.917969</td>\n",
       "      <td>2.266393</td>\n",
       "      <td>1.755102</td>\n",
       "      <td>1.582474</td>\n",
       "      <td>4.707547</td>\n",
       "      <td>2.757576</td>\n",
       "      <td>3.692308</td>\n",
       "      <td>46.295203</td>\n",
       "      <td>24.456929</td>\n",
       "      <td>2.037037</td>\n",
       "      <td>3.019608</td>\n",
       "      <td>1.551839</td>\n",
       "      <td>1.363333</td>\n",
       "      <td>3657.880000</td>\n",
       "      <td>1.670000</td>\n",
       "    </tr>\n",
       "    <tr>\n",
       "      <th>std</th>\n",
       "      <td>0.490305</td>\n",
       "      <td>0.271746</td>\n",
       "      <td>1.529801e+06</td>\n",
       "      <td>0.732289</td>\n",
       "      <td>28.630557</td>\n",
       "      <td>17.642231</td>\n",
       "      <td>1.045054</td>\n",
       "      <td>1.042428</td>\n",
       "      <td>1.620294</td>\n",
       "      <td>0.477629</td>\n",
       "      <td>1.30794</td>\n",
       "      <td>0.976744</td>\n",
       "      <td>1.065131</td>\n",
       "      <td>0.649437</td>\n",
       "      <td>0.805359</td>\n",
       "      <td>1.982311</td>\n",
       "      <td>1.251119</td>\n",
       "      <td>1.491725</td>\n",
       "      <td>10.419335</td>\n",
       "      <td>27.475009</td>\n",
       "      <td>0.804905</td>\n",
       "      <td>1.968567</td>\n",
       "      <td>0.737187</td>\n",
       "      <td>0.481763</td>\n",
       "      <td>5399.513513</td>\n",
       "      <td>0.470998</td>\n",
       "    </tr>\n",
       "    <tr>\n",
       "      <th>min</th>\n",
       "      <td>1.000000</td>\n",
       "      <td>1.000000</td>\n",
       "      <td>5.184760e+05</td>\n",
       "      <td>35.400000</td>\n",
       "      <td>30.000000</td>\n",
       "      <td>8.000000</td>\n",
       "      <td>1.000000</td>\n",
       "      <td>1.000000</td>\n",
       "      <td>1.000000</td>\n",
       "      <td>1.000000</td>\n",
       "      <td>1.00000</td>\n",
       "      <td>1.000000</td>\n",
       "      <td>1.000000</td>\n",
       "      <td>1.000000</td>\n",
       "      <td>1.000000</td>\n",
       "      <td>1.000000</td>\n",
       "      <td>1.000000</td>\n",
       "      <td>1.000000</td>\n",
       "      <td>23.000000</td>\n",
       "      <td>3.300000</td>\n",
       "      <td>1.000000</td>\n",
       "      <td>0.100000</td>\n",
       "      <td>1.000000</td>\n",
       "      <td>1.000000</td>\n",
       "      <td>0.000000</td>\n",
       "      <td>1.000000</td>\n",
       "    </tr>\n",
       "    <tr>\n",
       "      <th>25%</th>\n",
       "      <td>1.000000</td>\n",
       "      <td>1.000000</td>\n",
       "      <td>5.289040e+05</td>\n",
       "      <td>37.800000</td>\n",
       "      <td>48.000000</td>\n",
       "      <td>18.500000</td>\n",
       "      <td>1.000000</td>\n",
       "      <td>1.000000</td>\n",
       "      <td>1.000000</td>\n",
       "      <td>1.000000</td>\n",
       "      <td>2.00000</td>\n",
       "      <td>3.000000</td>\n",
       "      <td>1.000000</td>\n",
       "      <td>1.000000</td>\n",
       "      <td>1.000000</td>\n",
       "      <td>3.000000</td>\n",
       "      <td>1.000000</td>\n",
       "      <td>2.000000</td>\n",
       "      <td>38.000000</td>\n",
       "      <td>6.500000</td>\n",
       "      <td>1.000000</td>\n",
       "      <td>2.000000</td>\n",
       "      <td>1.000000</td>\n",
       "      <td>1.000000</td>\n",
       "      <td>2111.750000</td>\n",
       "      <td>1.000000</td>\n",
       "    </tr>\n",
       "    <tr>\n",
       "      <th>50%</th>\n",
       "      <td>1.000000</td>\n",
       "      <td>1.000000</td>\n",
       "      <td>5.303055e+05</td>\n",
       "      <td>38.200000</td>\n",
       "      <td>64.000000</td>\n",
       "      <td>24.500000</td>\n",
       "      <td>3.000000</td>\n",
       "      <td>2.000000</td>\n",
       "      <td>3.000000</td>\n",
       "      <td>1.000000</td>\n",
       "      <td>3.00000</td>\n",
       "      <td>3.000000</td>\n",
       "      <td>2.000000</td>\n",
       "      <td>2.000000</td>\n",
       "      <td>1.000000</td>\n",
       "      <td>5.000000</td>\n",
       "      <td>3.000000</td>\n",
       "      <td>4.000000</td>\n",
       "      <td>45.000000</td>\n",
       "      <td>7.500000</td>\n",
       "      <td>2.000000</td>\n",
       "      <td>2.250000</td>\n",
       "      <td>1.000000</td>\n",
       "      <td>1.000000</td>\n",
       "      <td>2673.500000</td>\n",
       "      <td>2.000000</td>\n",
       "    </tr>\n",
       "    <tr>\n",
       "      <th>75%</th>\n",
       "      <td>2.000000</td>\n",
       "      <td>1.000000</td>\n",
       "      <td>5.347275e+05</td>\n",
       "      <td>38.500000</td>\n",
       "      <td>88.000000</td>\n",
       "      <td>36.000000</td>\n",
       "      <td>3.000000</td>\n",
       "      <td>3.000000</td>\n",
       "      <td>4.000000</td>\n",
       "      <td>2.000000</td>\n",
       "      <td>4.00000</td>\n",
       "      <td>4.000000</td>\n",
       "      <td>3.000000</td>\n",
       "      <td>2.000000</td>\n",
       "      <td>2.000000</td>\n",
       "      <td>6.500000</td>\n",
       "      <td>4.000000</td>\n",
       "      <td>5.000000</td>\n",
       "      <td>52.000000</td>\n",
       "      <td>57.000000</td>\n",
       "      <td>3.000000</td>\n",
       "      <td>3.900000</td>\n",
       "      <td>2.000000</td>\n",
       "      <td>2.000000</td>\n",
       "      <td>3209.000000</td>\n",
       "      <td>2.000000</td>\n",
       "    </tr>\n",
       "    <tr>\n",
       "      <th>max</th>\n",
       "      <td>2.000000</td>\n",
       "      <td>2.000000</td>\n",
       "      <td>5.305629e+06</td>\n",
       "      <td>40.800000</td>\n",
       "      <td>184.000000</td>\n",
       "      <td>96.000000</td>\n",
       "      <td>4.000000</td>\n",
       "      <td>4.000000</td>\n",
       "      <td>6.000000</td>\n",
       "      <td>3.000000</td>\n",
       "      <td>5.00000</td>\n",
       "      <td>4.000000</td>\n",
       "      <td>4.000000</td>\n",
       "      <td>3.000000</td>\n",
       "      <td>3.000000</td>\n",
       "      <td>7.500000</td>\n",
       "      <td>4.000000</td>\n",
       "      <td>5.000000</td>\n",
       "      <td>75.000000</td>\n",
       "      <td>89.000000</td>\n",
       "      <td>3.000000</td>\n",
       "      <td>10.100000</td>\n",
       "      <td>3.000000</td>\n",
       "      <td>2.000000</td>\n",
       "      <td>41110.000000</td>\n",
       "      <td>2.000000</td>\n",
       "    </tr>\n",
       "  </tbody>\n",
       "</table>\n",
       "</div>"
      ],
      "text/plain": [
       "          surgery         Age  Hospital Number  rectal temperature  \\\n",
       "count  299.000000  300.000000     3.000000e+02          240.000000   \n",
       "mean     1.397993    1.080000     1.085889e+06           38.167917   \n",
       "std      0.490305    0.271746     1.529801e+06            0.732289   \n",
       "min      1.000000    1.000000     5.184760e+05           35.400000   \n",
       "25%      1.000000    1.000000     5.289040e+05           37.800000   \n",
       "50%      1.000000    1.000000     5.303055e+05           38.200000   \n",
       "75%      2.000000    1.000000     5.347275e+05           38.500000   \n",
       "max      2.000000    2.000000     5.305629e+06           40.800000   \n",
       "\n",
       "            pulse  respiratory rate  temperature of extremities  \\\n",
       "count  276.000000        242.000000                  244.000000   \n",
       "mean    71.913043         30.417355                    2.348361   \n",
       "std     28.630557         17.642231                    1.045054   \n",
       "min     30.000000          8.000000                    1.000000   \n",
       "25%     48.000000         18.500000                    1.000000   \n",
       "50%     64.000000         24.500000                    3.000000   \n",
       "75%     88.000000         36.000000                    3.000000   \n",
       "max    184.000000         96.000000                    4.000000   \n",
       "\n",
       "       peripheral pulse  ucous membranes  capillary refill time       pain  \\\n",
       "count        231.000000       253.000000             268.000000  245.00000   \n",
       "mean           2.017316         2.853755               1.305970    2.95102   \n",
       "std            1.042428         1.620294               0.477629    1.30794   \n",
       "min            1.000000         1.000000               1.000000    1.00000   \n",
       "25%            1.000000         1.000000               1.000000    2.00000   \n",
       "50%            2.000000         3.000000               1.000000    3.00000   \n",
       "75%            3.000000         4.000000               2.000000    4.00000   \n",
       "max            4.000000         6.000000               3.000000    5.00000   \n",
       "\n",
       "       peristalsis  abdominal distension  nasogastric tube  \\\n",
       "count   256.000000            244.000000        196.000000   \n",
       "mean      2.917969              2.266393          1.755102   \n",
       "std       0.976744              1.065131          0.649437   \n",
       "min       1.000000              1.000000          1.000000   \n",
       "25%       3.000000              1.000000          1.000000   \n",
       "50%       3.000000              2.000000          2.000000   \n",
       "75%       4.000000              3.000000          2.000000   \n",
       "max       4.000000              4.000000          3.000000   \n",
       "\n",
       "       nasogastric reflux  nasogastric reflux PH  rectal examination  \\\n",
       "count          194.000000              53.000000          198.000000   \n",
       "mean             1.582474               4.707547            2.757576   \n",
       "std              0.805359               1.982311            1.251119   \n",
       "min              1.000000               1.000000            1.000000   \n",
       "25%              1.000000               3.000000            1.000000   \n",
       "50%              1.000000               5.000000            3.000000   \n",
       "75%              2.000000               6.500000            4.000000   \n",
       "max              3.000000               7.500000            4.000000   \n",
       "\n",
       "          abdomen  packed cell volume  total protein  \\\n",
       "count  182.000000          271.000000     267.000000   \n",
       "mean     3.692308           46.295203      24.456929   \n",
       "std      1.491725           10.419335      27.475009   \n",
       "min      1.000000           23.000000       3.300000   \n",
       "25%      2.000000           38.000000       6.500000   \n",
       "50%      4.000000           45.000000       7.500000   \n",
       "75%      5.000000           52.000000      57.000000   \n",
       "max      5.000000           75.000000      89.000000   \n",
       "\n",
       "       abdominocentesis appearance  abdomcentesis total protein     outcome  \\\n",
       "count                   135.000000                   102.000000  299.000000   \n",
       "mean                      2.037037                     3.019608    1.551839   \n",
       "std                       0.804905                     1.968567    0.737187   \n",
       "min                       1.000000                     0.100000    1.000000   \n",
       "25%                       1.000000                     2.000000    1.000000   \n",
       "50%                       2.000000                     2.250000    1.000000   \n",
       "75%                       3.000000                     3.900000    2.000000   \n",
       "max                       3.000000                    10.100000    3.000000   \n",
       "\n",
       "       surgical lesion  type of lesion     cp_data  \n",
       "count       300.000000      300.000000  300.000000  \n",
       "mean          1.363333     3657.880000    1.670000  \n",
       "std           0.481763     5399.513513    0.470998  \n",
       "min           1.000000        0.000000    1.000000  \n",
       "25%           1.000000     2111.750000    1.000000  \n",
       "50%           1.000000     2673.500000    2.000000  \n",
       "75%           2.000000     3209.000000    2.000000  \n",
       "max           2.000000    41110.000000    2.000000  "
      ]
     },
     "execution_count": 51,
     "metadata": {},
     "output_type": "execute_result"
    }
   ],
   "source": [
    " df.describe()"
   ]
  },
  {
   "cell_type": "code",
   "execution_count": 52,
   "metadata": {},
   "outputs": [
    {
     "data": {
      "text/html": [
       "<div>\n",
       "<style scoped>\n",
       "    .dataframe tbody tr th:only-of-type {\n",
       "        vertical-align: middle;\n",
       "    }\n",
       "\n",
       "    .dataframe tbody tr th {\n",
       "        vertical-align: top;\n",
       "    }\n",
       "\n",
       "    .dataframe thead th {\n",
       "        text-align: right;\n",
       "    }\n",
       "</style>\n",
       "<table border=\"1\" class=\"dataframe\">\n",
       "  <thead>\n",
       "    <tr style=\"text-align: right;\">\n",
       "      <th></th>\n",
       "      <th>surgery</th>\n",
       "      <th>Age</th>\n",
       "      <th>rectal temperature</th>\n",
       "      <th>pulse</th>\n",
       "      <th>respiratory rate</th>\n",
       "      <th>temperature of extremities</th>\n",
       "      <th>total protein</th>\n",
       "      <th>type of lesion</th>\n",
       "    </tr>\n",
       "  </thead>\n",
       "  <tbody>\n",
       "    <tr>\n",
       "      <th>count</th>\n",
       "      <td>299.000000</td>\n",
       "      <td>299.000000</td>\n",
       "      <td>299.000000</td>\n",
       "      <td>299.000000</td>\n",
       "      <td>299.000000</td>\n",
       "      <td>299.000000</td>\n",
       "      <td>299.000000</td>\n",
       "      <td>299.000000</td>\n",
       "    </tr>\n",
       "    <tr>\n",
       "      <th>mean</th>\n",
       "      <td>1.397993</td>\n",
       "      <td>1.080268</td>\n",
       "      <td>38.168619</td>\n",
       "      <td>71.357860</td>\n",
       "      <td>29.401338</td>\n",
       "      <td>2.468227</td>\n",
       "      <td>24.274436</td>\n",
       "      <td>3659.709030</td>\n",
       "    </tr>\n",
       "    <tr>\n",
       "      <th>std</th>\n",
       "      <td>0.490305</td>\n",
       "      <td>0.272162</td>\n",
       "      <td>0.655730</td>\n",
       "      <td>27.554626</td>\n",
       "      <td>16.000822</td>\n",
       "      <td>0.976997</td>\n",
       "      <td>25.804620</td>\n",
       "      <td>5408.472421</td>\n",
       "    </tr>\n",
       "    <tr>\n",
       "      <th>min</th>\n",
       "      <td>1.000000</td>\n",
       "      <td>1.000000</td>\n",
       "      <td>35.400000</td>\n",
       "      <td>30.000000</td>\n",
       "      <td>8.000000</td>\n",
       "      <td>1.000000</td>\n",
       "      <td>3.300000</td>\n",
       "      <td>0.000000</td>\n",
       "    </tr>\n",
       "    <tr>\n",
       "      <th>25%</th>\n",
       "      <td>1.000000</td>\n",
       "      <td>1.000000</td>\n",
       "      <td>37.900000</td>\n",
       "      <td>48.500000</td>\n",
       "      <td>20.000000</td>\n",
       "      <td>1.000000</td>\n",
       "      <td>6.600000</td>\n",
       "      <td>2111.500000</td>\n",
       "    </tr>\n",
       "    <tr>\n",
       "      <th>50%</th>\n",
       "      <td>1.000000</td>\n",
       "      <td>1.000000</td>\n",
       "      <td>38.168619</td>\n",
       "      <td>64.000000</td>\n",
       "      <td>25.000000</td>\n",
       "      <td>3.000000</td>\n",
       "      <td>7.700000</td>\n",
       "      <td>2322.000000</td>\n",
       "    </tr>\n",
       "    <tr>\n",
       "      <th>75%</th>\n",
       "      <td>2.000000</td>\n",
       "      <td>1.000000</td>\n",
       "      <td>38.500000</td>\n",
       "      <td>88.000000</td>\n",
       "      <td>34.500000</td>\n",
       "      <td>3.000000</td>\n",
       "      <td>52.000000</td>\n",
       "      <td>3209.000000</td>\n",
       "    </tr>\n",
       "    <tr>\n",
       "      <th>max</th>\n",
       "      <td>2.000000</td>\n",
       "      <td>2.000000</td>\n",
       "      <td>40.800000</td>\n",
       "      <td>184.000000</td>\n",
       "      <td>96.000000</td>\n",
       "      <td>4.000000</td>\n",
       "      <td>89.000000</td>\n",
       "      <td>41110.000000</td>\n",
       "    </tr>\n",
       "  </tbody>\n",
       "</table>\n",
       "</div>"
      ],
      "text/plain": [
       "          surgery         Age  rectal temperature       pulse  \\\n",
       "count  299.000000  299.000000          299.000000  299.000000   \n",
       "mean     1.397993    1.080268           38.168619   71.357860   \n",
       "std      0.490305    0.272162            0.655730   27.554626   \n",
       "min      1.000000    1.000000           35.400000   30.000000   \n",
       "25%      1.000000    1.000000           37.900000   48.500000   \n",
       "50%      1.000000    1.000000           38.168619   64.000000   \n",
       "75%      2.000000    1.000000           38.500000   88.000000   \n",
       "max      2.000000    2.000000           40.800000  184.000000   \n",
       "\n",
       "       respiratory rate  temperature of extremities  total protein  \\\n",
       "count        299.000000                  299.000000     299.000000   \n",
       "mean          29.401338                    2.468227      24.274436   \n",
       "std           16.000822                    0.976997      25.804620   \n",
       "min            8.000000                    1.000000       3.300000   \n",
       "25%           20.000000                    1.000000       6.600000   \n",
       "50%           25.000000                    3.000000       7.700000   \n",
       "75%           34.500000                    3.000000      52.000000   \n",
       "max           96.000000                    4.000000      89.000000   \n",
       "\n",
       "       type of lesion  \n",
       "count      299.000000  \n",
       "mean      3659.709030  \n",
       "std       5408.472421  \n",
       "min          0.000000  \n",
       "25%       2111.500000  \n",
       "50%       2322.000000  \n",
       "75%       3209.000000  \n",
       "max      41110.000000  "
      ]
     },
     "execution_count": 52,
     "metadata": {},
     "output_type": "execute_result"
    }
   ],
   "source": [
    "df_new.describe()"
   ]
  }
 ],
 "metadata": {
  "kernelspec": {
   "display_name": "Python 3",
   "language": "python",
   "name": "python3"
  },
  "language_info": {
   "codemirror_mode": {
    "name": "ipython",
    "version": 3
   },
   "file_extension": ".py",
   "mimetype": "text/x-python",
   "name": "python",
   "nbconvert_exporter": "python",
   "pygments_lexer": "ipython3",
   "version": "3.8.3"
  }
 },
 "nbformat": 4,
 "nbformat_minor": 2
}
